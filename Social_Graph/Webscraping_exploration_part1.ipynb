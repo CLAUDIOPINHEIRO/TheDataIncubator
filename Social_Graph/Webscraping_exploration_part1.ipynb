{
 "cells": [
  {
   "cell_type": "code",
   "execution_count": 1,
   "metadata": {
    "collapsed": true
   },
   "outputs": [],
   "source": [
    "# Redo of the graph project Nov 2016\n",
    "# This project will scrape a New York Social Diary website and identify divs with\n",
    "# photos and photo captions. Parsing the captions will yield a social network graph \n",
    "# of the New York Social Elite.\n",
    "\n",
    "# Paln for the graph visulization will be done with Tableau or networkx -> graph_tool or gephi"
   ]
  },
  {
   "cell_type": "code",
   "execution_count": 240,
   "metadata": {
    "collapsed": true
   },
   "outputs": [],
   "source": [
    "%matplotlib inline\n",
    "import matplotlib\n",
    "import seaborn as sns\n",
    "matplotlib.rcParams['savefig.dpi'] = 2 * matplotlib.rcParams['savefig.dpi']\n",
    "import requests\n",
    "from bs4 import BeautifulSoup\n",
    "import urllib2\n",
    "import re\n",
    "from xml.sax.saxutils import escape\n",
    "from HTMLParser import HTMLParser\n",
    "import numpy as np\n",
    "from multiprocessing import Pool\n",
    "import networkx as nx\n",
    "import pickle\n",
    "import dill\n",
    "import time\n",
    "import itertools\n",
    "from itertools import chain\n",
    "import csv\n",
    "#import nltk\n",
    "#from nltk.tag import pos_tag"
   ]
  },
  {
   "cell_type": "code",
   "execution_count": 3,
   "metadata": {
    "collapsed": true
   },
   "outputs": [],
   "source": [
    "# create a subclass and override the handler methods\n",
    "class MyHTMLParser_test(HTMLParser):\n",
    "    def handle_starttag(self, tag, attrs):\n",
    "        print \"Encountered a start tag:\", tag\n",
    "        #for name, value in attrs:\n",
    "        #print value\n",
    "    def handle_endtag(self, tag):\n",
    "        #return\n",
    "        print \"Encountered an end tag :\", tag\n",
    "\n",
    "    def handle_data(self, data):\n",
    "        #return\n",
    "        print \"Encountered some data  :\", data"
   ]
  },
  {
   "cell_type": "code",
   "execution_count": 4,
   "metadata": {
    "collapsed": true
   },
   "outputs": [],
   "source": [
    "# create a subclass and override the handler methods\n",
    "class MyHTMLParser(HTMLParser):\n",
    "    def handle_starttag(self, tag, attrs):\n",
    "        if tag == \"a\":\n",
    "            #print \"Encountered a start tag:\", tag\n",
    "            for name, value in attrs:\n",
    "                print value\n",
    "    def handle_endtag(self, tag):\n",
    "        return\n",
    "        #print \"Encountered an end tag :\", tag\n",
    "\n",
    "    def handle_data(self, data):\n",
    "        return\n",
    "        #print \"Encountered some data  :\", data"
   ]
  },
  {
   "cell_type": "code",
   "execution_count": 5,
   "metadata": {
    "collapsed": true
   },
   "outputs": [],
   "source": [
    "# redefine parser\n",
    "class MyHTMLParser_2(HTMLParser):\n",
    "    def handle_starttag(self, tag, attrs):\n",
    "        if tag == \"a\":\n",
    "            #print \"Encountered a start tag:\", tag\n",
    "            for name, value in attrs:\n",
    "                self.data = value \n",
    "                #this overwrites the data aspect which is our captions\n",
    "                #print value\n",
    "                #print name\n",
    "                #print self.data\n",
    "    def handle_endtag(self, tag):\n",
    "        return\n",
    "#print \"Encountered an end tag :\", tag\n",
    "\n",
    "    def handle_data(self, data):\n",
    "        self.data = self.data\n",
    "        return\n",
    "#       print \"Encountered some data  :\", data"
   ]
  },
  {
   "cell_type": "code",
   "execution_count": 6,
   "metadata": {
    "collapsed": true
   },
   "outputs": [],
   "source": [
    "# Here we go\n",
    "# example album is \n",
    "# http://www.newyorksocialdiary.com/party-pictures/2016/celebrating-the-neighborhood\n",
    "\n",
    "# The archive is a number of pages\n",
    "\n",
    "# 0th http://www.newyorksocialdiary.com/party-pictures\n",
    "# 1st http://www.newyorksocialdiary.com/party-pictures?page=1\n",
    "# 28th and last is http://www.newyorksocialdiary.com/party-pictures?page=27\n",
    "\n",
    "# so there are 28 pages"
   ]
  },
  {
   "cell_type": "code",
   "execution_count": 7,
   "metadata": {
    "collapsed": true
   },
   "outputs": [],
   "source": [
    "url = \"http://www.newyorksocialdiary.com/party-pictures\""
   ]
  },
  {
   "cell_type": "code",
   "execution_count": 8,
   "metadata": {
    "collapsed": false
   },
   "outputs": [
    {
     "name": "stdout",
     "output_type": "stream",
     "text": [
      "http://www.newyorksocialdiary.com/party-pictures?page=0\n"
     ]
    },
    {
     "data": {
      "text/plain": [
       "u'<!DOCTYPE html>\\n  <!--[if IEMobile 7]><html class=\"no-js ie iem7\" lang=\"en\" dir=\"ltr\"><![endif]-->\\n  <!--[if lte IE 6]><html class=\"no-js ie lt-ie9 lt-ie8 lt-ie7\" lang=\"en\" dir=\"ltr\"><![endif]-->\\n  <!--[if (IE 7)&(!IEMobile)]><html class=\"no-js ie lt-ie9 lt-ie8\" lang=\"en\" dir=\"ltr\"><![endif]-->\\n  <!--[if IE 8]><html class=\"no-js ie lt-ie9\" lang=\"en\" dir=\"ltr\"><![endif]-->\\n  <!--[if (gte IE 9)|(gt IEMobile 7)]><html class=\"no-js ie\" lang=\"en\" dir=\"ltr\" prefix=\"fb: http://ogp.me/ns/fb# og: http://ogp.me/ns# article: http://ogp.me/ns/article# book: http://ogp.me/ns/book# profile: http://ogp.me/ns/profile# video: http://ogp.me/ns/video# product: http://ogp.me/ns/product#\"><![endif]-->\\n  <!--[if !IE]><!--><html class=\"no-js\" lang=\"en\" dir=\"ltr\" prefix=\"fb: http://ogp.me/ns/fb# og: http://ogp.me/ns# article: http://ogp.me/ns/article# book: http://ogp.me/ns/book# profile: http://ogp.me/ns/profile# video: http://ogp.me/ns/video# product: http://ogp.me/ns/product#\"><!--<![endif]-->\\n<head>\\n  <ti...'"
      ]
     },
     "execution_count": 8,
     "metadata": {},
     "output_type": "execute_result"
    }
   ],
   "source": [
    "response = requests.get(url, params={\"page\": 0})\n",
    "print response.url\n",
    "response.text[:1000] + \"...\""
   ]
  },
  {
   "cell_type": "code",
   "execution_count": 9,
   "metadata": {
    "collapsed": true
   },
   "outputs": [],
   "source": [
    "# there is page zero remember \n",
    "# http://www.newyorksocialdiary.com/party-pictures?page=0\n",
    "# page 29 does not exist currently byt 28 does and looks to be empty"
   ]
  },
  {
   "cell_type": "code",
   "execution_count": 10,
   "metadata": {
    "collapsed": false
   },
   "outputs": [],
   "source": [
    "soup = BeautifulSoup(urllib2.urlopen(response.url), \"lxml\") # lxml gets rid of the parser choice warning"
   ]
  },
  {
   "cell_type": "code",
   "execution_count": 11,
   "metadata": {
    "collapsed": false
   },
   "outputs": [],
   "source": [
    "parent_div = soup.find('div', attrs={'class': 'view-content'}) #Find (at most) *one*"
   ]
  },
  {
   "cell_type": "code",
   "execution_count": 12,
   "metadata": {
    "collapsed": false
   },
   "outputs": [
    {
     "data": {
      "text/plain": [
       "<div class=\"view-content\">\\n<div class=\"views-row views-row-1 views-row-odd views-row-first\">\\n<span class=\"views-field views-field-title\"> <span class=\"field-content\"><a href=\"/party-pictures/2016/celebrating-the-neighborhood\">Celebrating the Neighborhood</a></span> </span>\\n<span class=\"views-field views-field-created\"> <span class=\"field-content\">Monday, November 14, 2016</span> </span> </div>\\n<div class=\"views-row views-row-2 views-row-even\">\\n<span class=\"views-field views-field-title\"> <span class=\"field-content\"><a href=\"/party-pictures/2016/a-rarity-these-days\">A rarity these days</a></span> </span>\\n<span class=\"views-field views-field-created\"> <span class=\"field-content\">Tuesday, November 8, 2016</span> </span> </div>\\n<div class=\"views-row views-row-3 views-row-odd\">\\n<span class=\"views-field views-field-title\"> <span class=\"field-content\"><a href=\"/party-pictures/2016/fall-fetes\">Fall Fetes</a></span> </span>\\n<span class=\"views-field views-field-created\"> <span class=\"field-content\">Monday, November 7, 2016</span> </span> </div>\\n<div class=\"views-row views-row-4 views-row-even\">\\n<span class=\"views-field views-field-title\"> <span class=\"field-content\"><a href=\"/party-pictures/2016/distinguished-service\">Distinguished service</a></span> </span>\\n<span class=\"views-field views-field-created\"> <span class=\"field-content\">Monday, October 31, 2016</span> </span> </div>\\n<div class=\"views-row views-row-5 views-row-odd\">\\n<span class=\"views-field views-field-title\"> <span class=\"field-content\"><a href=\"/party-pictures/2016/the-arts\">The Arts</a></span> </span>\\n<span class=\"views-field views-field-created\"> <span class=\"field-content\">Friday, October 28, 2016</span> </span> </div>\\n<div class=\"views-row views-row-6 views-row-even\">\\n<span class=\"views-field views-field-title\"> <span class=\"field-content\"><a href=\"/party-pictures/2016/arts-and-education\">Arts and Education</a></span> </span>\\n<span class=\"views-field views-field-created\"> <span class=\"field-content\">Wednesday, October 26, 2016</span> </span> </div>\\n<div class=\"views-row views-row-7 views-row-odd\">\\n<span class=\"views-field views-field-title\"> <span class=\"field-content\"><a href=\"/party-pictures/2016/trailblazers\">Trailblazers</a></span> </span>\\n<span class=\"views-field views-field-created\"> <span class=\"field-content\">Tuesday, October 25, 2016</span> </span> </div>\\n<div class=\"views-row views-row-8 views-row-even\">\\n<span class=\"views-field views-field-title\"> <span class=\"field-content\"><a href=\"/party-pictures/2016/lighting-up-lives\">Lighting up lives</a></span> </span>\\n<span class=\"views-field views-field-created\"> <span class=\"field-content\">Monday, October 24, 2016</span> </span> </div>\\n<div class=\"views-row views-row-9 views-row-odd\">\\n<span class=\"views-field views-field-title\"> <span class=\"field-content\"><a href=\"/party-pictures/2016/an-extra-boost\">An extra boost</a></span> </span>\\n<span class=\"views-field views-field-created\"> <span class=\"field-content\">Thursday, October 20, 2016</span> </span> </div>\\n<div class=\"views-row views-row-10 views-row-even\">\\n<span class=\"views-field views-field-title\"> <span class=\"field-content\"><a href=\"/party-pictures/2016/when-museums-are-built\">When museums are built</a></span> </span>\\n<span class=\"views-field views-field-created\"> <span class=\"field-content\">Tuesday, October 18, 2016</span> </span> </div>\\n<div class=\"views-row views-row-11 views-row-odd\">\\n<span class=\"views-field views-field-title\"> <span class=\"field-content\"><a href=\"/party-pictures/2016/fulfillment-of-agenda\">Fulfillment of agenda</a></span> </span>\\n<span class=\"views-field views-field-created\"> <span class=\"field-content\">Monday, October 17, 2016</span> </span> </div>\\n<div class=\"views-row views-row-12 views-row-even\">\\n<span class=\"views-field views-field-title\"> <span class=\"field-content\"><a href=\"/party-pictures/2016/a-look-around-the-neighborhood\">A look around the Neighborhood</a></span> </span>\\n<span class=\"views-field views-field-created\"> <span class=\"field-content\">Wednesday, October 12, 2016</span> </span> </div>\\n<div class=\"views-row views-row-13 views-row-odd\">\\n<span class=\"views-field views-field-title\"> <span class=\"field-content\"><a href=\"/party-pictures/2016/new-york-after-dark\">New York After Dark</a></span> </span>\\n<span class=\"views-field views-field-created\"> <span class=\"field-content\">Tuesday, October 11, 2016</span> </span> </div>\\n<div class=\"views-row views-row-14 views-row-even\">\\n<span class=\"views-field views-field-title\"> <span class=\"field-content\"><a href=\"/party-pictures/2016/fact-vs-fiction\">Fact vs. Fiction</a></span> </span>\\n<span class=\"views-field views-field-created\"> <span class=\"field-content\">Tuesday, October 4, 2016</span> </span> </div>\\n<div class=\"views-row views-row-15 views-row-odd\">\\n<span class=\"views-field views-field-title\"> <span class=\"field-content\"><a href=\"/party-pictures/2016/fall-fun\">Fall Fun</a></span> </span>\\n<span class=\"views-field views-field-created\"> <span class=\"field-content\">Wednesday, September 28, 2016</span> </span> </div>\\n<div class=\"views-row views-row-16 views-row-even\">\\n<span class=\"views-field views-field-title\"> <span class=\"field-content\"><a href=\"/party-pictures/2016/lessons-learned\">Lessons Learned</a></span> </span>\\n<span class=\"views-field views-field-created\"> <span class=\"field-content\">Monday, September 26, 2016</span> </span> </div>\\n<div class=\"views-row views-row-17 views-row-odd\">\\n<span class=\"views-field views-field-title\"> <span class=\"field-content\"><a href=\"/party-pictures/2016/championing-the-makers\">Championing the makers</a></span> </span>\\n<span class=\"views-field views-field-created\"> <span class=\"field-content\">Friday, September 23, 2016</span> </span> </div>\\n<div class=\"views-row views-row-18 views-row-even\">\\n<span class=\"views-field views-field-title\"> <span class=\"field-content\"><a href=\"/party-pictures/2016/same-sky\">Dignity of work</a></span> </span>\\n<span class=\"views-field views-field-created\"> <span class=\"field-content\">Wednesday, September 21, 2016</span> </span> </div>\\n<div class=\"views-row views-row-19 views-row-odd\">\\n<span class=\"views-field views-field-title\"> <span class=\"field-content\"><a href=\"/party-pictures/2016/new-yorkers-for-children-celebrates-20\">New Yorkers For Children celebrates 20</a></span> </span>\\n<span class=\"views-field views-field-created\"> <span class=\"field-content\">Tuesday, September 20, 2016</span> </span> </div>\\n<div class=\"views-row views-row-20 views-row-even\">\\n<span class=\"views-field views-field-title\"> <span class=\"field-content\"><a href=\"/party-pictures/2016/artistry-of-fashion\">Artistry of Fashion</a></span> </span>\\n<span class=\"views-field views-field-created\"> <span class=\"field-content\">Monday, September 12, 2016</span> </span> </div>\\n<div class=\"views-row views-row-21 views-row-odd\">\\n<span class=\"views-field views-field-title\"> <span class=\"field-content\"><a href=\"/party-pictures/2016/summer-swan-song\">Summer swan song</a></span> </span>\\n<span class=\"views-field views-field-created\"> <span class=\"field-content\">Tuesday, September 6, 2016</span> </span> </div>\\n<div class=\"views-row views-row-22 views-row-even\">\\n<span class=\"views-field views-field-title\"> <span class=\"field-content\"><a href=\"/party-pictures/2016/the-grand-voyage\">The Grand Voyage</a></span> </span>\\n<span class=\"views-field views-field-created\"> <span class=\"field-content\">Wednesday, August 31, 2016</span> </span> </div>\\n<div class=\"views-row views-row-23 views-row-odd\">\\n<span class=\"views-field views-field-title\"> <span class=\"field-content\"><a href=\"/party-pictures/2016/classic-moments\">Classic moments</a></span> </span>\\n<span class=\"views-field views-field-created\"> <span class=\"field-content\">Tuesday, August 30, 2016</span> </span> </div>\\n<div class=\"views-row views-row-24 views-row-even\">\\n<span class=\"views-field views-field-title\"> <span class=\"field-content\"><a href=\"/party-pictures/2016/summer-fun-and-fashion\">Summer fun and fashion</a></span> </span>\\n<span class=\"views-field views-field-created\"> <span class=\"field-content\">Monday, August 29, 2016</span> </span> </div>\\n<div class=\"views-row views-row-25 views-row-odd\">\\n<span class=\"views-field views-field-title\"> <span class=\"field-content\"><a href=\"/party-pictures/2016/the-7th-annual-apollo-in-the-hamptons\">The 7th Annual Apollo in the Hamptons</a></span> </span>\\n<span class=\"views-field views-field-created\"> <span class=\"field-content\">Thursday, August 25, 2016</span> </span> </div>\\n<div class=\"views-row views-row-26 views-row-even\">\\n<span class=\"views-field views-field-title\"> <span class=\"field-content\"><a href=\"/party-pictures/2016/animal-rescue-fund-of-the-hamptons-annual-bow-wow-meow-ball\">Animal Rescue Fund of the Hamptons' annual Bow Wow Meow Ball</a></span> </span>\\n<span class=\"views-field views-field-created\"> <span class=\"field-content\">Monday, August 22, 2016</span> </span> </div>\\n<div class=\"views-row views-row-27 views-row-odd\">\\n<span class=\"views-field views-field-title\"> <span class=\"field-content\"><a href=\"/party-pictures/2016/tireless-efforts\">Tireless efforts</a></span> </span>\\n<span class=\"views-field views-field-created\"> <span class=\"field-content\">Monday, August 15, 2016</span> </span> </div>\\n<div class=\"views-row views-row-28 views-row-even\">\\n<span class=\"views-field views-field-title\"> <span class=\"field-content\"><a href=\"/party-pictures/2016/ovarian-cancer-research-fund-alliances-19th-annual-super-saturday\">Ovarian Cancer Research Fund Alliance\\u2019s 19th annual Super Saturday</a></span> </span>\\n<span class=\"views-field views-field-created\"> <span class=\"field-content\">Tuesday, August 9, 2016</span> </span> </div>\\n<div class=\"views-row views-row-29 views-row-odd\">\\n<span class=\"views-field views-field-title\"> <span class=\"field-content\"><a href=\"/party-pictures/2016/paddle-party-for-pink\">Paddle &amp; Party for Pink</a></span> </span>\\n<span class=\"views-field views-field-created\"> <span class=\"field-content\">Tuesday, August 9, 2016</span> </span> </div>\\n<div class=\"views-row views-row-30 views-row-even\">\\n<span class=\"views-field views-field-title\"> <span class=\"field-content\"><a href=\"/party-pictures/2016/hope-and-valor\">Hope and Valor</a></span> </span>\\n<span class=\"views-field views-field-created\"> <span class=\"field-content\">Monday, August 8, 2016</span> </span> </div>\\n<div class=\"views-row views-row-31 views-row-odd\">\\n<span class=\"views-field views-field-title\"> <span class=\"field-content\"><a href=\"/party-pictures/2016/the-watermill-centers-fada-house-of-madness-summer-benefit\">The Watermill Center\\u2019s FADA: House of Madness Summer Benefit </a></span> </span>\\n<span class=\"views-field views-field-created\"> <span class=\"field-content\">Wednesday, August 3, 2016</span> </span> </div>\\n<div class=\"views-row views-row-32 views-row-even\">\\n<span class=\"views-field views-field-title\"> <span class=\"field-content\"><a href=\"/party-pictures/2016/serious-moonlight\">Serious Moonlight</a></span> </span>\\n<span class=\"views-field views-field-created\"> <span class=\"field-content\">Monday, August 1, 2016</span> </span> </div>\\n<div class=\"views-row views-row-33 views-row-odd\">\\n<span class=\"views-field views-field-title\"> <span class=\"field-content\"><a href=\"/party-pictures/2016/walk-of-hope\">Walk of Hope</a></span> </span>\\n<span class=\"views-field views-field-created\"> <span class=\"field-content\">Tuesday, July 26, 2016</span> </span> </div>\\n<div class=\"views-row views-row-34 views-row-even\">\\n<span class=\"views-field views-field-title\"> <span class=\"field-content\"><a href=\"/party-pictures/2016/the-view-from-the-top\">The view from the top</a></span> </span>\\n<span class=\"views-field views-field-created\"> <span class=\"field-content\">Wednesday, July 13, 2016</span> </span> </div>\\n<div class=\"views-row views-row-35 views-row-odd\">\\n<span class=\"views-field views-field-title\"> <span class=\"field-content\"><a href=\"/party-pictures/2016/what-you-might-have-missed\">What you might have missed</a></span> </span>\\n<span class=\"views-field views-field-created\"> <span class=\"field-content\">Wednesday, July 6, 2016</span> </span> </div>\\n<div class=\"views-row views-row-36 views-row-even\">\\n<span class=\"views-field views-field-title\"> <span class=\"field-content\"><a href=\"/party-pictures/2016/empowering-women-and-awarding-men\">Empowering women and awarding men</a></span> </span>\\n<span class=\"views-field views-field-created\"> <span class=\"field-content\">Tuesday, July 5, 2016</span> </span> </div>\\n<div class=\"views-row views-row-37 views-row-odd\">\\n<span class=\"views-field views-field-title\"> <span class=\"field-content\"><a href=\"/party-pictures/2016/transforming-and-beautifying\">Transforming and beautifying</a></span> </span>\\n<span class=\"views-field views-field-created\"> <span class=\"field-content\">Wednesday, June 29, 2016</span> </span> </div>\\n<div class=\"views-row views-row-38 views-row-even\">\\n<span class=\"views-field views-field-title\"> <span class=\"field-content\"><a href=\"/party-pictures/2016/empowerment\">Empowerment</a></span> </span>\\n<span class=\"views-field views-field-created\"> <span class=\"field-content\">Monday, June 27, 2016</span> </span> </div>\\n<div class=\"views-row views-row-39 views-row-odd\">\\n<span class=\"views-field views-field-title\"> <span class=\"field-content\"><a href=\"/party-pictures/2016/awards-and-accolades\">Awards and Accolades</a></span> </span>\\n<span class=\"views-field views-field-created\"> <span class=\"field-content\">Monday, June 20, 2016</span> </span> </div>\\n<div class=\"views-row views-row-40 views-row-even\">\\n<span class=\"views-field views-field-title\"> <span class=\"field-content\"><a href=\"/party-pictures/2016/celebrating-fashion-fun-and-flora\">Celebrating fashion, fun, and flora</a></span> </span>\\n<span class=\"views-field views-field-created\"> <span class=\"field-content\">Tuesday, June 14, 2016</span> </span> </div>\\n<div class=\"views-row views-row-41 views-row-odd\">\\n<span class=\"views-field views-field-title\"> <span class=\"field-content\"><a href=\"/party-pictures/2016/sliding-into-summer\">Sliding into Summer</a></span> </span>\\n<span class=\"views-field views-field-created\"> <span class=\"field-content\">Wednesday, June 8, 2016</span> </span> </div>\\n<div class=\"views-row views-row-42 views-row-even\">\\n<span class=\"views-field views-field-title\"> <span class=\"field-content\"><a href=\"/party-pictures/2016/a-touch-of-gold\">A touch of gold</a></span> </span>\\n<span class=\"views-field views-field-created\"> <span class=\"field-content\">Wednesday, June 1, 2016</span> </span> </div>\\n<div class=\"views-row views-row-43 views-row-odd\">\\n<span class=\"views-field views-field-title\"> <span class=\"field-content\"><a href=\"/party-pictures/2016/pivotal-moments\">Pivotal moments</a></span> </span>\\n<span class=\"views-field views-field-created\"> <span class=\"field-content\">Tuesday, May 31, 2016</span> </span> </div>\\n<div class=\"views-row views-row-44 views-row-even\">\\n<span class=\"views-field views-field-title\"> <span class=\"field-content\"><a href=\"/party-pictures/2016/recipients-performers-and-well-wishers\">Recipients, performers and well-wishers</a></span> </span>\\n<span class=\"views-field views-field-created\"> <span class=\"field-content\">Wednesday, May 25, 2016</span> </span> </div>\\n<div class=\"views-row views-row-45 views-row-odd\">\\n<span class=\"views-field views-field-title\"> <span class=\"field-content\"><a href=\"/party-pictures/2016/the-society-of-memorial-sloan-kettering-gray-matters-and-icmec\">The Society of Memorial Sloan Kettering, Gray Matters, and ICMEC</a></span> </span>\\n<span class=\"views-field views-field-created\"> <span class=\"field-content\">Monday, May 23, 2016</span> </span> </div>\\n<div class=\"views-row views-row-46 views-row-even\">\\n<span class=\"views-field views-field-title\"> <span class=\"field-content\"><a href=\"/party-pictures/2016/dressed-for-the-occasion\">Dressed for the occasion</a></span> </span>\\n<span class=\"views-field views-field-created\"> <span class=\"field-content\">Thursday, May 19, 2016</span> </span> </div>\\n<div class=\"views-row views-row-47 views-row-odd\">\\n<span class=\"views-field views-field-title\"> <span class=\"field-content\"><a href=\"/party-pictures/2016/looking-for-answers\">Looking for Answers</a></span> </span>\\n<span class=\"views-field views-field-created\"> <span class=\"field-content\">Tuesday, May 17, 2016</span> </span> </div>\\n<div class=\"views-row views-row-48 views-row-even\">\\n<span class=\"views-field views-field-title\"> <span class=\"field-content\"><a href=\"/party-pictures/2016/anniversary-celebrations\">Anniversary Celebrations</a></span> </span>\\n<span class=\"views-field views-field-created\"> <span class=\"field-content\">Friday, May 13, 2016</span> </span> </div>\\n<div class=\"views-row views-row-49 views-row-odd\">\\n<span class=\"views-field views-field-title\"> <span class=\"field-content\"><a href=\"/party-pictures/2016/love-and-art\">Love and Art</a></span> </span>\\n<span class=\"views-field views-field-created\"> <span class=\"field-content\">Wednesday, May 11, 2016</span> </span> </div>\\n<div class=\"views-row views-row-50 views-row-even views-row-last\">\\n<span class=\"views-field views-field-title\"> <span class=\"field-content\"><a href=\"/party-pictures/2016/friends-and-community-members\">Friends and community members</a></span> </span>\\n<span class=\"views-field views-field-created\"> <span class=\"field-content\">Monday, May 9, 2016</span> </span> </div>\\n</div>"
      ]
     },
     "execution_count": 12,
     "metadata": {},
     "output_type": "execute_result"
    }
   ],
   "source": [
    "parent_div"
   ]
  },
  {
   "cell_type": "code",
   "execution_count": 13,
   "metadata": {
    "collapsed": true
   },
   "outputs": [],
   "source": [
    "# img_divs = parent_div.find_all('div', attrs={'class':'technology'})  #Find *all* # fails returns []"
   ]
  },
  {
   "cell_type": "code",
   "execution_count": 14,
   "metadata": {
    "collapsed": false
   },
   "outputs": [
    {
     "data": {
      "text/plain": [
       "50"
      ]
     },
     "execution_count": 14,
     "metadata": {},
     "output_type": "execute_result"
    }
   ],
   "source": [
    "link_divs = parent_div.find_all('div', attrs={'class':'views-row'})  #Find *all*\n",
    "len(link_divs) # number of albums on page 0"
   ]
  },
  {
   "cell_type": "code",
   "execution_count": 15,
   "metadata": {
    "collapsed": false
   },
   "outputs": [
    {
     "data": {
      "text/plain": [
       "[<div class=\"views-row views-row-1 views-row-odd views-row-first\">\\n<span class=\"views-field views-field-title\"> <span class=\"field-content\"><a href=\"/party-pictures/2016/celebrating-the-neighborhood\">Celebrating the Neighborhood</a></span> </span>\\n<span class=\"views-field views-field-created\"> <span class=\"field-content\">Monday, November 14, 2016</span> </span> </div>,\n",
       " <div class=\"views-row views-row-2 views-row-even\">\\n<span class=\"views-field views-field-title\"> <span class=\"field-content\"><a href=\"/party-pictures/2016/a-rarity-these-days\">A rarity these days</a></span> </span>\\n<span class=\"views-field views-field-created\"> <span class=\"field-content\">Tuesday, November 8, 2016</span> </span> </div>,\n",
       " <div class=\"views-row views-row-3 views-row-odd\">\\n<span class=\"views-field views-field-title\"> <span class=\"field-content\"><a href=\"/party-pictures/2016/fall-fetes\">Fall Fetes</a></span> </span>\\n<span class=\"views-field views-field-created\"> <span class=\"field-content\">Monday, November 7, 2016</span> </span> </div>,\n",
       " <div class=\"views-row views-row-4 views-row-even\">\\n<span class=\"views-field views-field-title\"> <span class=\"field-content\"><a href=\"/party-pictures/2016/distinguished-service\">Distinguished service</a></span> </span>\\n<span class=\"views-field views-field-created\"> <span class=\"field-content\">Monday, October 31, 2016</span> </span> </div>,\n",
       " <div class=\"views-row views-row-5 views-row-odd\">\\n<span class=\"views-field views-field-title\"> <span class=\"field-content\"><a href=\"/party-pictures/2016/the-arts\">The Arts</a></span> </span>\\n<span class=\"views-field views-field-created\"> <span class=\"field-content\">Friday, October 28, 2016</span> </span> </div>,\n",
       " <div class=\"views-row views-row-6 views-row-even\">\\n<span class=\"views-field views-field-title\"> <span class=\"field-content\"><a href=\"/party-pictures/2016/arts-and-education\">Arts and Education</a></span> </span>\\n<span class=\"views-field views-field-created\"> <span class=\"field-content\">Wednesday, October 26, 2016</span> </span> </div>,\n",
       " <div class=\"views-row views-row-7 views-row-odd\">\\n<span class=\"views-field views-field-title\"> <span class=\"field-content\"><a href=\"/party-pictures/2016/trailblazers\">Trailblazers</a></span> </span>\\n<span class=\"views-field views-field-created\"> <span class=\"field-content\">Tuesday, October 25, 2016</span> </span> </div>,\n",
       " <div class=\"views-row views-row-8 views-row-even\">\\n<span class=\"views-field views-field-title\"> <span class=\"field-content\"><a href=\"/party-pictures/2016/lighting-up-lives\">Lighting up lives</a></span> </span>\\n<span class=\"views-field views-field-created\"> <span class=\"field-content\">Monday, October 24, 2016</span> </span> </div>,\n",
       " <div class=\"views-row views-row-9 views-row-odd\">\\n<span class=\"views-field views-field-title\"> <span class=\"field-content\"><a href=\"/party-pictures/2016/an-extra-boost\">An extra boost</a></span> </span>\\n<span class=\"views-field views-field-created\"> <span class=\"field-content\">Thursday, October 20, 2016</span> </span> </div>,\n",
       " <div class=\"views-row views-row-10 views-row-even\">\\n<span class=\"views-field views-field-title\"> <span class=\"field-content\"><a href=\"/party-pictures/2016/when-museums-are-built\">When museums are built</a></span> </span>\\n<span class=\"views-field views-field-created\"> <span class=\"field-content\">Tuesday, October 18, 2016</span> </span> </div>,\n",
       " <div class=\"views-row views-row-11 views-row-odd\">\\n<span class=\"views-field views-field-title\"> <span class=\"field-content\"><a href=\"/party-pictures/2016/fulfillment-of-agenda\">Fulfillment of agenda</a></span> </span>\\n<span class=\"views-field views-field-created\"> <span class=\"field-content\">Monday, October 17, 2016</span> </span> </div>,\n",
       " <div class=\"views-row views-row-12 views-row-even\">\\n<span class=\"views-field views-field-title\"> <span class=\"field-content\"><a href=\"/party-pictures/2016/a-look-around-the-neighborhood\">A look around the Neighborhood</a></span> </span>\\n<span class=\"views-field views-field-created\"> <span class=\"field-content\">Wednesday, October 12, 2016</span> </span> </div>,\n",
       " <div class=\"views-row views-row-13 views-row-odd\">\\n<span class=\"views-field views-field-title\"> <span class=\"field-content\"><a href=\"/party-pictures/2016/new-york-after-dark\">New York After Dark</a></span> </span>\\n<span class=\"views-field views-field-created\"> <span class=\"field-content\">Tuesday, October 11, 2016</span> </span> </div>,\n",
       " <div class=\"views-row views-row-14 views-row-even\">\\n<span class=\"views-field views-field-title\"> <span class=\"field-content\"><a href=\"/party-pictures/2016/fact-vs-fiction\">Fact vs. Fiction</a></span> </span>\\n<span class=\"views-field views-field-created\"> <span class=\"field-content\">Tuesday, October 4, 2016</span> </span> </div>,\n",
       " <div class=\"views-row views-row-15 views-row-odd\">\\n<span class=\"views-field views-field-title\"> <span class=\"field-content\"><a href=\"/party-pictures/2016/fall-fun\">Fall Fun</a></span> </span>\\n<span class=\"views-field views-field-created\"> <span class=\"field-content\">Wednesday, September 28, 2016</span> </span> </div>,\n",
       " <div class=\"views-row views-row-16 views-row-even\">\\n<span class=\"views-field views-field-title\"> <span class=\"field-content\"><a href=\"/party-pictures/2016/lessons-learned\">Lessons Learned</a></span> </span>\\n<span class=\"views-field views-field-created\"> <span class=\"field-content\">Monday, September 26, 2016</span> </span> </div>,\n",
       " <div class=\"views-row views-row-17 views-row-odd\">\\n<span class=\"views-field views-field-title\"> <span class=\"field-content\"><a href=\"/party-pictures/2016/championing-the-makers\">Championing the makers</a></span> </span>\\n<span class=\"views-field views-field-created\"> <span class=\"field-content\">Friday, September 23, 2016</span> </span> </div>,\n",
       " <div class=\"views-row views-row-18 views-row-even\">\\n<span class=\"views-field views-field-title\"> <span class=\"field-content\"><a href=\"/party-pictures/2016/same-sky\">Dignity of work</a></span> </span>\\n<span class=\"views-field views-field-created\"> <span class=\"field-content\">Wednesday, September 21, 2016</span> </span> </div>,\n",
       " <div class=\"views-row views-row-19 views-row-odd\">\\n<span class=\"views-field views-field-title\"> <span class=\"field-content\"><a href=\"/party-pictures/2016/new-yorkers-for-children-celebrates-20\">New Yorkers For Children celebrates 20</a></span> </span>\\n<span class=\"views-field views-field-created\"> <span class=\"field-content\">Tuesday, September 20, 2016</span> </span> </div>,\n",
       " <div class=\"views-row views-row-20 views-row-even\">\\n<span class=\"views-field views-field-title\"> <span class=\"field-content\"><a href=\"/party-pictures/2016/artistry-of-fashion\">Artistry of Fashion</a></span> </span>\\n<span class=\"views-field views-field-created\"> <span class=\"field-content\">Monday, September 12, 2016</span> </span> </div>,\n",
       " <div class=\"views-row views-row-21 views-row-odd\">\\n<span class=\"views-field views-field-title\"> <span class=\"field-content\"><a href=\"/party-pictures/2016/summer-swan-song\">Summer swan song</a></span> </span>\\n<span class=\"views-field views-field-created\"> <span class=\"field-content\">Tuesday, September 6, 2016</span> </span> </div>,\n",
       " <div class=\"views-row views-row-22 views-row-even\">\\n<span class=\"views-field views-field-title\"> <span class=\"field-content\"><a href=\"/party-pictures/2016/the-grand-voyage\">The Grand Voyage</a></span> </span>\\n<span class=\"views-field views-field-created\"> <span class=\"field-content\">Wednesday, August 31, 2016</span> </span> </div>,\n",
       " <div class=\"views-row views-row-23 views-row-odd\">\\n<span class=\"views-field views-field-title\"> <span class=\"field-content\"><a href=\"/party-pictures/2016/classic-moments\">Classic moments</a></span> </span>\\n<span class=\"views-field views-field-created\"> <span class=\"field-content\">Tuesday, August 30, 2016</span> </span> </div>,\n",
       " <div class=\"views-row views-row-24 views-row-even\">\\n<span class=\"views-field views-field-title\"> <span class=\"field-content\"><a href=\"/party-pictures/2016/summer-fun-and-fashion\">Summer fun and fashion</a></span> </span>\\n<span class=\"views-field views-field-created\"> <span class=\"field-content\">Monday, August 29, 2016</span> </span> </div>,\n",
       " <div class=\"views-row views-row-25 views-row-odd\">\\n<span class=\"views-field views-field-title\"> <span class=\"field-content\"><a href=\"/party-pictures/2016/the-7th-annual-apollo-in-the-hamptons\">The 7th Annual Apollo in the Hamptons</a></span> </span>\\n<span class=\"views-field views-field-created\"> <span class=\"field-content\">Thursday, August 25, 2016</span> </span> </div>,\n",
       " <div class=\"views-row views-row-26 views-row-even\">\\n<span class=\"views-field views-field-title\"> <span class=\"field-content\"><a href=\"/party-pictures/2016/animal-rescue-fund-of-the-hamptons-annual-bow-wow-meow-ball\">Animal Rescue Fund of the Hamptons' annual Bow Wow Meow Ball</a></span> </span>\\n<span class=\"views-field views-field-created\"> <span class=\"field-content\">Monday, August 22, 2016</span> </span> </div>,\n",
       " <div class=\"views-row views-row-27 views-row-odd\">\\n<span class=\"views-field views-field-title\"> <span class=\"field-content\"><a href=\"/party-pictures/2016/tireless-efforts\">Tireless efforts</a></span> </span>\\n<span class=\"views-field views-field-created\"> <span class=\"field-content\">Monday, August 15, 2016</span> </span> </div>,\n",
       " <div class=\"views-row views-row-28 views-row-even\">\\n<span class=\"views-field views-field-title\"> <span class=\"field-content\"><a href=\"/party-pictures/2016/ovarian-cancer-research-fund-alliances-19th-annual-super-saturday\">Ovarian Cancer Research Fund Alliance\\u2019s 19th annual Super Saturday</a></span> </span>\\n<span class=\"views-field views-field-created\"> <span class=\"field-content\">Tuesday, August 9, 2016</span> </span> </div>,\n",
       " <div class=\"views-row views-row-29 views-row-odd\">\\n<span class=\"views-field views-field-title\"> <span class=\"field-content\"><a href=\"/party-pictures/2016/paddle-party-for-pink\">Paddle &amp; Party for Pink</a></span> </span>\\n<span class=\"views-field views-field-created\"> <span class=\"field-content\">Tuesday, August 9, 2016</span> </span> </div>,\n",
       " <div class=\"views-row views-row-30 views-row-even\">\\n<span class=\"views-field views-field-title\"> <span class=\"field-content\"><a href=\"/party-pictures/2016/hope-and-valor\">Hope and Valor</a></span> </span>\\n<span class=\"views-field views-field-created\"> <span class=\"field-content\">Monday, August 8, 2016</span> </span> </div>,\n",
       " <div class=\"views-row views-row-31 views-row-odd\">\\n<span class=\"views-field views-field-title\"> <span class=\"field-content\"><a href=\"/party-pictures/2016/the-watermill-centers-fada-house-of-madness-summer-benefit\">The Watermill Center\\u2019s FADA: House of Madness Summer Benefit </a></span> </span>\\n<span class=\"views-field views-field-created\"> <span class=\"field-content\">Wednesday, August 3, 2016</span> </span> </div>,\n",
       " <div class=\"views-row views-row-32 views-row-even\">\\n<span class=\"views-field views-field-title\"> <span class=\"field-content\"><a href=\"/party-pictures/2016/serious-moonlight\">Serious Moonlight</a></span> </span>\\n<span class=\"views-field views-field-created\"> <span class=\"field-content\">Monday, August 1, 2016</span> </span> </div>,\n",
       " <div class=\"views-row views-row-33 views-row-odd\">\\n<span class=\"views-field views-field-title\"> <span class=\"field-content\"><a href=\"/party-pictures/2016/walk-of-hope\">Walk of Hope</a></span> </span>\\n<span class=\"views-field views-field-created\"> <span class=\"field-content\">Tuesday, July 26, 2016</span> </span> </div>,\n",
       " <div class=\"views-row views-row-34 views-row-even\">\\n<span class=\"views-field views-field-title\"> <span class=\"field-content\"><a href=\"/party-pictures/2016/the-view-from-the-top\">The view from the top</a></span> </span>\\n<span class=\"views-field views-field-created\"> <span class=\"field-content\">Wednesday, July 13, 2016</span> </span> </div>,\n",
       " <div class=\"views-row views-row-35 views-row-odd\">\\n<span class=\"views-field views-field-title\"> <span class=\"field-content\"><a href=\"/party-pictures/2016/what-you-might-have-missed\">What you might have missed</a></span> </span>\\n<span class=\"views-field views-field-created\"> <span class=\"field-content\">Wednesday, July 6, 2016</span> </span> </div>,\n",
       " <div class=\"views-row views-row-36 views-row-even\">\\n<span class=\"views-field views-field-title\"> <span class=\"field-content\"><a href=\"/party-pictures/2016/empowering-women-and-awarding-men\">Empowering women and awarding men</a></span> </span>\\n<span class=\"views-field views-field-created\"> <span class=\"field-content\">Tuesday, July 5, 2016</span> </span> </div>,\n",
       " <div class=\"views-row views-row-37 views-row-odd\">\\n<span class=\"views-field views-field-title\"> <span class=\"field-content\"><a href=\"/party-pictures/2016/transforming-and-beautifying\">Transforming and beautifying</a></span> </span>\\n<span class=\"views-field views-field-created\"> <span class=\"field-content\">Wednesday, June 29, 2016</span> </span> </div>,\n",
       " <div class=\"views-row views-row-38 views-row-even\">\\n<span class=\"views-field views-field-title\"> <span class=\"field-content\"><a href=\"/party-pictures/2016/empowerment\">Empowerment</a></span> </span>\\n<span class=\"views-field views-field-created\"> <span class=\"field-content\">Monday, June 27, 2016</span> </span> </div>,\n",
       " <div class=\"views-row views-row-39 views-row-odd\">\\n<span class=\"views-field views-field-title\"> <span class=\"field-content\"><a href=\"/party-pictures/2016/awards-and-accolades\">Awards and Accolades</a></span> </span>\\n<span class=\"views-field views-field-created\"> <span class=\"field-content\">Monday, June 20, 2016</span> </span> </div>,\n",
       " <div class=\"views-row views-row-40 views-row-even\">\\n<span class=\"views-field views-field-title\"> <span class=\"field-content\"><a href=\"/party-pictures/2016/celebrating-fashion-fun-and-flora\">Celebrating fashion, fun, and flora</a></span> </span>\\n<span class=\"views-field views-field-created\"> <span class=\"field-content\">Tuesday, June 14, 2016</span> </span> </div>,\n",
       " <div class=\"views-row views-row-41 views-row-odd\">\\n<span class=\"views-field views-field-title\"> <span class=\"field-content\"><a href=\"/party-pictures/2016/sliding-into-summer\">Sliding into Summer</a></span> </span>\\n<span class=\"views-field views-field-created\"> <span class=\"field-content\">Wednesday, June 8, 2016</span> </span> </div>,\n",
       " <div class=\"views-row views-row-42 views-row-even\">\\n<span class=\"views-field views-field-title\"> <span class=\"field-content\"><a href=\"/party-pictures/2016/a-touch-of-gold\">A touch of gold</a></span> </span>\\n<span class=\"views-field views-field-created\"> <span class=\"field-content\">Wednesday, June 1, 2016</span> </span> </div>,\n",
       " <div class=\"views-row views-row-43 views-row-odd\">\\n<span class=\"views-field views-field-title\"> <span class=\"field-content\"><a href=\"/party-pictures/2016/pivotal-moments\">Pivotal moments</a></span> </span>\\n<span class=\"views-field views-field-created\"> <span class=\"field-content\">Tuesday, May 31, 2016</span> </span> </div>,\n",
       " <div class=\"views-row views-row-44 views-row-even\">\\n<span class=\"views-field views-field-title\"> <span class=\"field-content\"><a href=\"/party-pictures/2016/recipients-performers-and-well-wishers\">Recipients, performers and well-wishers</a></span> </span>\\n<span class=\"views-field views-field-created\"> <span class=\"field-content\">Wednesday, May 25, 2016</span> </span> </div>,\n",
       " <div class=\"views-row views-row-45 views-row-odd\">\\n<span class=\"views-field views-field-title\"> <span class=\"field-content\"><a href=\"/party-pictures/2016/the-society-of-memorial-sloan-kettering-gray-matters-and-icmec\">The Society of Memorial Sloan Kettering, Gray Matters, and ICMEC</a></span> </span>\\n<span class=\"views-field views-field-created\"> <span class=\"field-content\">Monday, May 23, 2016</span> </span> </div>,\n",
       " <div class=\"views-row views-row-46 views-row-even\">\\n<span class=\"views-field views-field-title\"> <span class=\"field-content\"><a href=\"/party-pictures/2016/dressed-for-the-occasion\">Dressed for the occasion</a></span> </span>\\n<span class=\"views-field views-field-created\"> <span class=\"field-content\">Thursday, May 19, 2016</span> </span> </div>,\n",
       " <div class=\"views-row views-row-47 views-row-odd\">\\n<span class=\"views-field views-field-title\"> <span class=\"field-content\"><a href=\"/party-pictures/2016/looking-for-answers\">Looking for Answers</a></span> </span>\\n<span class=\"views-field views-field-created\"> <span class=\"field-content\">Tuesday, May 17, 2016</span> </span> </div>,\n",
       " <div class=\"views-row views-row-48 views-row-even\">\\n<span class=\"views-field views-field-title\"> <span class=\"field-content\"><a href=\"/party-pictures/2016/anniversary-celebrations\">Anniversary Celebrations</a></span> </span>\\n<span class=\"views-field views-field-created\"> <span class=\"field-content\">Friday, May 13, 2016</span> </span> </div>,\n",
       " <div class=\"views-row views-row-49 views-row-odd\">\\n<span class=\"views-field views-field-title\"> <span class=\"field-content\"><a href=\"/party-pictures/2016/love-and-art\">Love and Art</a></span> </span>\\n<span class=\"views-field views-field-created\"> <span class=\"field-content\">Wednesday, May 11, 2016</span> </span> </div>,\n",
       " <div class=\"views-row views-row-50 views-row-even views-row-last\">\\n<span class=\"views-field views-field-title\"> <span class=\"field-content\"><a href=\"/party-pictures/2016/friends-and-community-members\">Friends and community members</a></span> </span>\\n<span class=\"views-field views-field-created\"> <span class=\"field-content\">Monday, May 9, 2016</span> </span> </div>]"
      ]
     },
     "execution_count": 15,
     "metadata": {},
     "output_type": "execute_result"
    }
   ],
   "source": [
    "link_divs # where we have href links with album names!"
   ]
  },
  {
   "cell_type": "code",
   "execution_count": 16,
   "metadata": {
    "collapsed": false
   },
   "outputs": [
    {
     "data": {
      "text/plain": [
       "<div class=\"views-row views-row-1 views-row-odd views-row-first\">\\n<span class=\"views-field views-field-title\"> <span class=\"field-content\"><a href=\"/party-pictures/2016/celebrating-the-neighborhood\">Celebrating the Neighborhood</a></span> </span>\\n<span class=\"views-field views-field-created\"> <span class=\"field-content\">Monday, November 14, 2016</span> </span> </div>"
      ]
     },
     "execution_count": 16,
     "metadata": {},
     "output_type": "execute_result"
    }
   ],
   "source": [
    "# 1st album when I do this is in here - Celebrating the neighborhood Monday Nov 14th\n",
    "link_divs[0]"
   ]
  },
  {
   "cell_type": "code",
   "execution_count": 17,
   "metadata": {
    "collapsed": true
   },
   "outputs": [],
   "source": [
    "# Some ways to detect href links I tried - but then I found MyHTMLParser()..."
   ]
  },
  {
   "cell_type": "code",
   "execution_count": 18,
   "metadata": {
    "collapsed": true
   },
   "outputs": [],
   "source": [
    "def detect_links(html):\n",
    "    links = re.findall(r'<\\s*a [^>]*href=\"([^\"]*)\"[^>]*>(.*?)</a', html)\n",
    "    return ((href.strip(), re.sub('<[^>]*>', '', title.strip())) for href, title in links)\n",
    "\n",
    "def detect_links2(html):\n",
    "    soup = BeautifulSoup(html, \"lxml\")\n",
    "    links = soup.find_all('a')\n",
    "    return ((escape(link.get('href')), link.text.strip()) for link in links)"
   ]
  },
  {
   "cell_type": "code",
   "execution_count": 19,
   "metadata": {
    "collapsed": false
   },
   "outputs": [
    {
     "data": {
      "text/plain": [
       "<generator object <genexpr> at 0x7efcf5a6d3c0>"
      ]
     },
     "execution_count": 19,
     "metadata": {},
     "output_type": "execute_result"
    }
   ],
   "source": [
    "detect_links('link_divs[0]')"
   ]
  },
  {
   "cell_type": "code",
   "execution_count": 20,
   "metadata": {
    "collapsed": false
   },
   "outputs": [
    {
     "data": {
      "text/plain": [
       "<generator object <genexpr> at 0x7efcf5a6db90>"
      ]
     },
     "execution_count": 20,
     "metadata": {},
     "output_type": "execute_result"
    }
   ],
   "source": [
    "detect_links2('link_divs[0]')"
   ]
  },
  {
   "cell_type": "code",
   "execution_count": 21,
   "metadata": {
    "collapsed": true
   },
   "outputs": [],
   "source": [
    "# test call yields data now href value\n",
    "parser_tester = MyHTMLParser_test()\n",
    "parser = MyHTMLParser()\n",
    "parser_2 = MyHTMLParser_2()"
   ]
  },
  {
   "cell_type": "code",
   "execution_count": 22,
   "metadata": {
    "collapsed": false
   },
   "outputs": [
    {
     "name": "stdout",
     "output_type": "stream",
     "text": [
      "Encountered a start tag: p\n",
      "Encountered a start tag: a\n",
      "Encountered some data  : Example Link\n",
      "Encountered an end tag : a\n",
      "Encountered an end tag : p\n"
     ]
    }
   ],
   "source": [
    "parser_tester.feed('<p><a href=\"http://www.quackit.com/html/tutorial/html_links.cfm\">Example Link</a></p>')"
   ]
  },
  {
   "cell_type": "code",
   "execution_count": 23,
   "metadata": {
    "collapsed": true
   },
   "outputs": [],
   "source": [
    "parser_2.feed('<p><a href=\"http://www.quackit.com/html/tutorial/html_links.cfm\">Example Link</a></p>')"
   ]
  },
  {
   "cell_type": "code",
   "execution_count": 24,
   "metadata": {
    "collapsed": false
   },
   "outputs": [
    {
     "data": {
      "text/plain": [
       "'http://www.quackit.com/html/tutorial/html_links.cfm'"
      ]
     },
     "execution_count": 24,
     "metadata": {},
     "output_type": "execute_result"
    }
   ],
   "source": [
    "parser_2.data"
   ]
  },
  {
   "cell_type": "code",
   "execution_count": 25,
   "metadata": {
    "collapsed": false
   },
   "outputs": [
    {
     "name": "stdout",
     "output_type": "stream",
     "text": [
      "http://www.quackit.com/html/tutorial/html_links.cfm\n"
     ]
    }
   ],
   "source": [
    "# example of how simple parser can be\n",
    "parser.feed('<p><a href=\"http://www.quackit.com/html/tutorial/html_links.cfm\">Example Link</a></p>')"
   ]
  },
  {
   "cell_type": "code",
   "execution_count": 26,
   "metadata": {
    "collapsed": false
   },
   "outputs": [
    {
     "name": "stdout",
     "output_type": "stream",
     "text": [
      "/party-pictures/2016/summer-swan-song\n"
     ]
    }
   ],
   "source": [
    "parser.feed('<div class=\"views-row views-row-1 views-row-odd views-row-first\">\\n<span class=\"views-field views-field-title\"> <span class=\"field-content\"><a href=\"/party-pictures/2016/summer-swan-song\">Summer swan song</a></span> </span>\\n<span class=\"views-field views-field-created\"> <span class=\"field-content\">Tuesday, September 6, 2016</span> </span> </div>')"
   ]
  },
  {
   "cell_type": "code",
   "execution_count": 27,
   "metadata": {
    "collapsed": false
   },
   "outputs": [],
   "source": [
    "parser_2.feed('<div class=\"views-row views-row-1 views-row-odd views-row-first\">\\n<span class=\"views-field views-field-title\"> <span class=\"field-content\"><a href=\"/party-pictures/2016/celebrating-the-neighborhood\">Celebrating the Neighborhood</a></span> </span>\\n<span class=\"views-field views-field-created\"> <span class=\"field-content\">Monday, November 14, 2016</span> </span> </div>')"
   ]
  },
  {
   "cell_type": "code",
   "execution_count": 28,
   "metadata": {
    "collapsed": false
   },
   "outputs": [
    {
     "data": {
      "text/plain": [
       "'/party-pictures/2016/celebrating-the-neighborhood'"
      ]
     },
     "execution_count": 28,
     "metadata": {},
     "output_type": "execute_result"
    }
   ],
   "source": [
    "parser_2.data"
   ]
  },
  {
   "cell_type": "code",
   "execution_count": 29,
   "metadata": {
    "collapsed": false
   },
   "outputs": [
    {
     "name": "stdout",
     "output_type": "stream",
     "text": [
      "<div class=\"views-row views-row-1 views-row-odd views-row-first\">\n",
      "<span class=\"views-field views-field-title\"> <span class=\"field-content\"><a href=\"/party-pictures/2016/celebrating-the-neighborhood\">Celebrating the Neighborhood</a></span> </span>\n",
      "<span class=\"views-field views-field-created\"> <span class=\"field-content\">Monday, November 14, 2016</span> </span> </div>\n",
      "<div class=\"views-row views-row-2 views-row-even\">\n",
      "<span class=\"views-field views-field-title\"> <span class=\"field-content\"><a href=\"/party-pictures/2016/a-rarity-these-days\">A rarity these days</a></span> </span>\n",
      "<span class=\"views-field views-field-created\"> <span class=\"field-content\">Tuesday, November 8, 2016</span> </span> </div>\n",
      "<div class=\"views-row views-row-3 views-row-odd\">\n",
      "<span class=\"views-field views-field-title\"> <span class=\"field-content\"><a href=\"/party-pictures/2016/fall-fetes\">Fall Fetes</a></span> </span>\n",
      "<span class=\"views-field views-field-created\"> <span class=\"field-content\">Monday, November 7, 2016</span> </span> </div>\n",
      "<div class=\"views-row views-row-4 views-row-even\">\n",
      "<span class=\"views-field views-field-title\"> <span class=\"field-content\"><a href=\"/party-pictures/2016/distinguished-service\">Distinguished service</a></span> </span>\n",
      "<span class=\"views-field views-field-created\"> <span class=\"field-content\">Monday, October 31, 2016</span> </span> </div>\n",
      "<div class=\"views-row views-row-5 views-row-odd\">\n",
      "<span class=\"views-field views-field-title\"> <span class=\"field-content\"><a href=\"/party-pictures/2016/the-arts\">The Arts</a></span> </span>\n",
      "<span class=\"views-field views-field-created\"> <span class=\"field-content\">Friday, October 28, 2016</span> </span> </div>\n",
      "<div class=\"views-row views-row-6 views-row-even\">\n",
      "<span class=\"views-field views-field-title\"> <span class=\"field-content\"><a href=\"/party-pictures/2016/arts-and-education\">Arts and Education</a></span> </span>\n",
      "<span class=\"views-field views-field-created\"> <span class=\"field-content\">Wednesday, October 26, 2016</span> </span> </div>\n",
      "<div class=\"views-row views-row-7 views-row-odd\">\n",
      "<span class=\"views-field views-field-title\"> <span class=\"field-content\"><a href=\"/party-pictures/2016/trailblazers\">Trailblazers</a></span> </span>\n",
      "<span class=\"views-field views-field-created\"> <span class=\"field-content\">Tuesday, October 25, 2016</span> </span> </div>\n",
      "<div class=\"views-row views-row-8 views-row-even\">\n",
      "<span class=\"views-field views-field-title\"> <span class=\"field-content\"><a href=\"/party-pictures/2016/lighting-up-lives\">Lighting up lives</a></span> </span>\n",
      "<span class=\"views-field views-field-created\"> <span class=\"field-content\">Monday, October 24, 2016</span> </span> </div>\n",
      "<div class=\"views-row views-row-9 views-row-odd\">\n",
      "<span class=\"views-field views-field-title\"> <span class=\"field-content\"><a href=\"/party-pictures/2016/an-extra-boost\">An extra boost</a></span> </span>\n",
      "<span class=\"views-field views-field-created\"> <span class=\"field-content\">Thursday, October 20, 2016</span> </span> </div>\n",
      "<div class=\"views-row views-row-10 views-row-even\">\n",
      "<span class=\"views-field views-field-title\"> <span class=\"field-content\"><a href=\"/party-pictures/2016/when-museums-are-built\">When museums are built</a></span> </span>\n",
      "<span class=\"views-field views-field-created\"> <span class=\"field-content\">Tuesday, October 18, 2016</span> </span> </div>\n",
      "<div class=\"views-row views-row-11 views-row-odd\">\n",
      "<span class=\"views-field views-field-title\"> <span class=\"field-content\"><a href=\"/party-pictures/2016/fulfillment-of-agenda\">Fulfillment of agenda</a></span> </span>\n",
      "<span class=\"views-field views-field-created\"> <span class=\"field-content\">Monday, October 17, 2016</span> </span> </div>\n",
      "<div class=\"views-row views-row-12 views-row-even\">\n",
      "<span class=\"views-field views-field-title\"> <span class=\"field-content\"><a href=\"/party-pictures/2016/a-look-around-the-neighborhood\">A look around the Neighborhood</a></span> </span>\n",
      "<span class=\"views-field views-field-created\"> <span class=\"field-content\">Wednesday, October 12, 2016</span> </span> </div>\n",
      "<div class=\"views-row views-row-13 views-row-odd\">\n",
      "<span class=\"views-field views-field-title\"> <span class=\"field-content\"><a href=\"/party-pictures/2016/new-york-after-dark\">New York After Dark</a></span> </span>\n",
      "<span class=\"views-field views-field-created\"> <span class=\"field-content\">Tuesday, October 11, 2016</span> </span> </div>\n",
      "<div class=\"views-row views-row-14 views-row-even\">\n",
      "<span class=\"views-field views-field-title\"> <span class=\"field-content\"><a href=\"/party-pictures/2016/fact-vs-fiction\">Fact vs. Fiction</a></span> </span>\n",
      "<span class=\"views-field views-field-created\"> <span class=\"field-content\">Tuesday, October 4, 2016</span> </span> </div>\n",
      "<div class=\"views-row views-row-15 views-row-odd\">\n",
      "<span class=\"views-field views-field-title\"> <span class=\"field-content\"><a href=\"/party-pictures/2016/fall-fun\">Fall Fun</a></span> </span>\n",
      "<span class=\"views-field views-field-created\"> <span class=\"field-content\">Wednesday, September 28, 2016</span> </span> </div>\n",
      "<div class=\"views-row views-row-16 views-row-even\">\n",
      "<span class=\"views-field views-field-title\"> <span class=\"field-content\"><a href=\"/party-pictures/2016/lessons-learned\">Lessons Learned</a></span> </span>\n",
      "<span class=\"views-field views-field-created\"> <span class=\"field-content\">Monday, September 26, 2016</span> </span> </div>\n",
      "<div class=\"views-row views-row-17 views-row-odd\">\n",
      "<span class=\"views-field views-field-title\"> <span class=\"field-content\"><a href=\"/party-pictures/2016/championing-the-makers\">Championing the makers</a></span> </span>\n",
      "<span class=\"views-field views-field-created\"> <span class=\"field-content\">Friday, September 23, 2016</span> </span> </div>\n",
      "<div class=\"views-row views-row-18 views-row-even\">\n",
      "<span class=\"views-field views-field-title\"> <span class=\"field-content\"><a href=\"/party-pictures/2016/same-sky\">Dignity of work</a></span> </span>\n",
      "<span class=\"views-field views-field-created\"> <span class=\"field-content\">Wednesday, September 21, 2016</span> </span> </div>\n",
      "<div class=\"views-row views-row-19 views-row-odd\">\n",
      "<span class=\"views-field views-field-title\"> <span class=\"field-content\"><a href=\"/party-pictures/2016/new-yorkers-for-children-celebrates-20\">New Yorkers For Children celebrates 20</a></span> </span>\n",
      "<span class=\"views-field views-field-created\"> <span class=\"field-content\">Tuesday, September 20, 2016</span> </span> </div>\n",
      "<div class=\"views-row views-row-20 views-row-even\">\n",
      "<span class=\"views-field views-field-title\"> <span class=\"field-content\"><a href=\"/party-pictures/2016/artistry-of-fashion\">Artistry of Fashion</a></span> </span>\n",
      "<span class=\"views-field views-field-created\"> <span class=\"field-content\">Monday, September 12, 2016</span> </span> </div>\n",
      "<div class=\"views-row views-row-21 views-row-odd\">\n",
      "<span class=\"views-field views-field-title\"> <span class=\"field-content\"><a href=\"/party-pictures/2016/summer-swan-song\">Summer swan song</a></span> </span>\n",
      "<span class=\"views-field views-field-created\"> <span class=\"field-content\">Tuesday, September 6, 2016</span> </span> </div>\n",
      "<div class=\"views-row views-row-22 views-row-even\">\n",
      "<span class=\"views-field views-field-title\"> <span class=\"field-content\"><a href=\"/party-pictures/2016/the-grand-voyage\">The Grand Voyage</a></span> </span>\n",
      "<span class=\"views-field views-field-created\"> <span class=\"field-content\">Wednesday, August 31, 2016</span> </span> </div>\n",
      "<div class=\"views-row views-row-23 views-row-odd\">\n",
      "<span class=\"views-field views-field-title\"> <span class=\"field-content\"><a href=\"/party-pictures/2016/classic-moments\">Classic moments</a></span> </span>\n",
      "<span class=\"views-field views-field-created\"> <span class=\"field-content\">Tuesday, August 30, 2016</span> </span> </div>\n",
      "<div class=\"views-row views-row-24 views-row-even\">\n",
      "<span class=\"views-field views-field-title\"> <span class=\"field-content\"><a href=\"/party-pictures/2016/summer-fun-and-fashion\">Summer fun and fashion</a></span> </span>\n",
      "<span class=\"views-field views-field-created\"> <span class=\"field-content\">Monday, August 29, 2016</span> </span> </div>\n",
      "<div class=\"views-row views-row-25 views-row-odd\">\n",
      "<span class=\"views-field views-field-title\"> <span class=\"field-content\"><a href=\"/party-pictures/2016/the-7th-annual-apollo-in-the-hamptons\">The 7th Annual Apollo in the Hamptons</a></span> </span>\n",
      "<span class=\"views-field views-field-created\"> <span class=\"field-content\">Thursday, August 25, 2016</span> </span> </div>\n",
      "<div class=\"views-row views-row-26 views-row-even\">\n",
      "<span class=\"views-field views-field-title\"> <span class=\"field-content\"><a href=\"/party-pictures/2016/animal-rescue-fund-of-the-hamptons-annual-bow-wow-meow-ball\">Animal Rescue Fund of the Hamptons' annual Bow Wow Meow Ball</a></span> </span>\n",
      "<span class=\"views-field views-field-created\"> <span class=\"field-content\">Monday, August 22, 2016</span> </span> </div>\n",
      "<div class=\"views-row views-row-27 views-row-odd\">\n",
      "<span class=\"views-field views-field-title\"> <span class=\"field-content\"><a href=\"/party-pictures/2016/tireless-efforts\">Tireless efforts</a></span> </span>\n",
      "<span class=\"views-field views-field-created\"> <span class=\"field-content\">Monday, August 15, 2016</span> </span> </div>\n",
      "<div class=\"views-row views-row-28 views-row-even\">\n",
      "<span class=\"views-field views-field-title\"> <span class=\"field-content\"><a href=\"/party-pictures/2016/ovarian-cancer-research-fund-alliances-19th-annual-super-saturday\">Ovarian Cancer Research Fund Alliance’s 19th annual Super Saturday</a></span> </span>\n",
      "<span class=\"views-field views-field-created\"> <span class=\"field-content\">Tuesday, August 9, 2016</span> </span> </div>\n",
      "<div class=\"views-row views-row-29 views-row-odd\">\n",
      "<span class=\"views-field views-field-title\"> <span class=\"field-content\"><a href=\"/party-pictures/2016/paddle-party-for-pink\">Paddle &amp; Party for Pink</a></span> </span>\n",
      "<span class=\"views-field views-field-created\"> <span class=\"field-content\">Tuesday, August 9, 2016</span> </span> </div>\n",
      "<div class=\"views-row views-row-30 views-row-even\">\n",
      "<span class=\"views-field views-field-title\"> <span class=\"field-content\"><a href=\"/party-pictures/2016/hope-and-valor\">Hope and Valor</a></span> </span>\n",
      "<span class=\"views-field views-field-created\"> <span class=\"field-content\">Monday, August 8, 2016</span> </span> </div>\n",
      "<div class=\"views-row views-row-31 views-row-odd\">\n",
      "<span class=\"views-field views-field-title\"> <span class=\"field-content\"><a href=\"/party-pictures/2016/the-watermill-centers-fada-house-of-madness-summer-benefit\">The Watermill Center’s FADA: House of Madness Summer Benefit </a></span> </span>\n",
      "<span class=\"views-field views-field-created\"> <span class=\"field-content\">Wednesday, August 3, 2016</span> </span> </div>\n",
      "<div class=\"views-row views-row-32 views-row-even\">\n",
      "<span class=\"views-field views-field-title\"> <span class=\"field-content\"><a href=\"/party-pictures/2016/serious-moonlight\">Serious Moonlight</a></span> </span>\n",
      "<span class=\"views-field views-field-created\"> <span class=\"field-content\">Monday, August 1, 2016</span> </span> </div>\n",
      "<div class=\"views-row views-row-33 views-row-odd\">\n",
      "<span class=\"views-field views-field-title\"> <span class=\"field-content\"><a href=\"/party-pictures/2016/walk-of-hope\">Walk of Hope</a></span> </span>\n",
      "<span class=\"views-field views-field-created\"> <span class=\"field-content\">Tuesday, July 26, 2016</span> </span> </div>\n",
      "<div class=\"views-row views-row-34 views-row-even\">\n",
      "<span class=\"views-field views-field-title\"> <span class=\"field-content\"><a href=\"/party-pictures/2016/the-view-from-the-top\">The view from the top</a></span> </span>\n",
      "<span class=\"views-field views-field-created\"> <span class=\"field-content\">Wednesday, July 13, 2016</span> </span> </div>\n",
      "<div class=\"views-row views-row-35 views-row-odd\">\n",
      "<span class=\"views-field views-field-title\"> <span class=\"field-content\"><a href=\"/party-pictures/2016/what-you-might-have-missed\">What you might have missed</a></span> </span>\n",
      "<span class=\"views-field views-field-created\"> <span class=\"field-content\">Wednesday, July 6, 2016</span> </span> </div>\n",
      "<div class=\"views-row views-row-36 views-row-even\">\n",
      "<span class=\"views-field views-field-title\"> <span class=\"field-content\"><a href=\"/party-pictures/2016/empowering-women-and-awarding-men\">Empowering women and awarding men</a></span> </span>\n",
      "<span class=\"views-field views-field-created\"> <span class=\"field-content\">Tuesday, July 5, 2016</span> </span> </div>\n",
      "<div class=\"views-row views-row-37 views-row-odd\">\n",
      "<span class=\"views-field views-field-title\"> <span class=\"field-content\"><a href=\"/party-pictures/2016/transforming-and-beautifying\">Transforming and beautifying</a></span> </span>\n",
      "<span class=\"views-field views-field-created\"> <span class=\"field-content\">Wednesday, June 29, 2016</span> </span> </div>\n",
      "<div class=\"views-row views-row-38 views-row-even\">\n",
      "<span class=\"views-field views-field-title\"> <span class=\"field-content\"><a href=\"/party-pictures/2016/empowerment\">Empowerment</a></span> </span>\n",
      "<span class=\"views-field views-field-created\"> <span class=\"field-content\">Monday, June 27, 2016</span> </span> </div>\n",
      "<div class=\"views-row views-row-39 views-row-odd\">\n",
      "<span class=\"views-field views-field-title\"> <span class=\"field-content\"><a href=\"/party-pictures/2016/awards-and-accolades\">Awards and Accolades</a></span> </span>\n",
      "<span class=\"views-field views-field-created\"> <span class=\"field-content\">Monday, June 20, 2016</span> </span> </div>\n",
      "<div class=\"views-row views-row-40 views-row-even\">\n",
      "<span class=\"views-field views-field-title\"> <span class=\"field-content\"><a href=\"/party-pictures/2016/celebrating-fashion-fun-and-flora\">Celebrating fashion, fun, and flora</a></span> </span>\n",
      "<span class=\"views-field views-field-created\"> <span class=\"field-content\">Tuesday, June 14, 2016</span> </span> </div>\n",
      "<div class=\"views-row views-row-41 views-row-odd\">\n",
      "<span class=\"views-field views-field-title\"> <span class=\"field-content\"><a href=\"/party-pictures/2016/sliding-into-summer\">Sliding into Summer</a></span> </span>\n",
      "<span class=\"views-field views-field-created\"> <span class=\"field-content\">Wednesday, June 8, 2016</span> </span> </div>\n",
      "<div class=\"views-row views-row-42 views-row-even\">\n",
      "<span class=\"views-field views-field-title\"> <span class=\"field-content\"><a href=\"/party-pictures/2016/a-touch-of-gold\">A touch of gold</a></span> </span>\n",
      "<span class=\"views-field views-field-created\"> <span class=\"field-content\">Wednesday, June 1, 2016</span> </span> </div>\n",
      "<div class=\"views-row views-row-43 views-row-odd\">\n",
      "<span class=\"views-field views-field-title\"> <span class=\"field-content\"><a href=\"/party-pictures/2016/pivotal-moments\">Pivotal moments</a></span> </span>\n",
      "<span class=\"views-field views-field-created\"> <span class=\"field-content\">Tuesday, May 31, 2016</span> </span> </div>\n",
      "<div class=\"views-row views-row-44 views-row-even\">\n",
      "<span class=\"views-field views-field-title\"> <span class=\"field-content\"><a href=\"/party-pictures/2016/recipients-performers-and-well-wishers\">Recipients, performers and well-wishers</a></span> </span>\n",
      "<span class=\"views-field views-field-created\"> <span class=\"field-content\">Wednesday, May 25, 2016</span> </span> </div>\n",
      "<div class=\"views-row views-row-45 views-row-odd\">\n",
      "<span class=\"views-field views-field-title\"> <span class=\"field-content\"><a href=\"/party-pictures/2016/the-society-of-memorial-sloan-kettering-gray-matters-and-icmec\">The Society of Memorial Sloan Kettering, Gray Matters, and ICMEC</a></span> </span>\n",
      "<span class=\"views-field views-field-created\"> <span class=\"field-content\">Monday, May 23, 2016</span> </span> </div>\n",
      "<div class=\"views-row views-row-46 views-row-even\">\n",
      "<span class=\"views-field views-field-title\"> <span class=\"field-content\"><a href=\"/party-pictures/2016/dressed-for-the-occasion\">Dressed for the occasion</a></span> </span>\n",
      "<span class=\"views-field views-field-created\"> <span class=\"field-content\">Thursday, May 19, 2016</span> </span> </div>\n",
      "<div class=\"views-row views-row-47 views-row-odd\">\n",
      "<span class=\"views-field views-field-title\"> <span class=\"field-content\"><a href=\"/party-pictures/2016/looking-for-answers\">Looking for Answers</a></span> </span>\n",
      "<span class=\"views-field views-field-created\"> <span class=\"field-content\">Tuesday, May 17, 2016</span> </span> </div>\n",
      "<div class=\"views-row views-row-48 views-row-even\">\n",
      "<span class=\"views-field views-field-title\"> <span class=\"field-content\"><a href=\"/party-pictures/2016/anniversary-celebrations\">Anniversary Celebrations</a></span> </span>\n",
      "<span class=\"views-field views-field-created\"> <span class=\"field-content\">Friday, May 13, 2016</span> </span> </div>\n",
      "<div class=\"views-row views-row-49 views-row-odd\">\n",
      "<span class=\"views-field views-field-title\"> <span class=\"field-content\"><a href=\"/party-pictures/2016/love-and-art\">Love and Art</a></span> </span>\n",
      "<span class=\"views-field views-field-created\"> <span class=\"field-content\">Wednesday, May 11, 2016</span> </span> </div>\n",
      "<div class=\"views-row views-row-50 views-row-even views-row-last\">\n",
      "<span class=\"views-field views-field-title\"> <span class=\"field-content\"><a href=\"/party-pictures/2016/friends-and-community-members\">Friends and community members</a></span> </span>\n",
      "<span class=\"views-field views-field-created\"> <span class=\"field-content\">Monday, May 9, 2016</span> </span> </div>\n"
     ]
    }
   ],
   "source": [
    "div_list = []\n",
    "for i in range(0,len(link_divs)):\n",
    "    div_list.append(str(link_divs[i]))        # div_list with album titles\n",
    "    print link_divs[i]"
   ]
  },
  {
   "cell_type": "code",
   "execution_count": 30,
   "metadata": {
    "collapsed": false
   },
   "outputs": [
    {
     "name": "stdout",
     "output_type": "stream",
     "text": [
      "/party-pictures/2016/celebrating-the-neighborhood\n",
      "/party-pictures/2016/a-rarity-these-days\n",
      "/party-pictures/2016/fall-fetes\n",
      "/party-pictures/2016/distinguished-service\n",
      "/party-pictures/2016/the-arts\n",
      "/party-pictures/2016/arts-and-education\n",
      "/party-pictures/2016/trailblazers\n",
      "/party-pictures/2016/lighting-up-lives\n",
      "/party-pictures/2016/an-extra-boost\n",
      "/party-pictures/2016/when-museums-are-built\n",
      "/party-pictures/2016/fulfillment-of-agenda\n",
      "/party-pictures/2016/a-look-around-the-neighborhood\n",
      "/party-pictures/2016/new-york-after-dark\n",
      "/party-pictures/2016/fact-vs-fiction\n",
      "/party-pictures/2016/fall-fun\n",
      "/party-pictures/2016/lessons-learned\n",
      "/party-pictures/2016/championing-the-makers\n",
      "/party-pictures/2016/same-sky\n",
      "/party-pictures/2016/new-yorkers-for-children-celebrates-20\n",
      "/party-pictures/2016/artistry-of-fashion\n",
      "/party-pictures/2016/summer-swan-song\n",
      "/party-pictures/2016/the-grand-voyage\n",
      "/party-pictures/2016/classic-moments\n",
      "/party-pictures/2016/summer-fun-and-fashion\n",
      "/party-pictures/2016/the-7th-annual-apollo-in-the-hamptons\n",
      "/party-pictures/2016/animal-rescue-fund-of-the-hamptons-annual-bow-wow-meow-ball\n",
      "/party-pictures/2016/tireless-efforts\n",
      "/party-pictures/2016/ovarian-cancer-research-fund-alliances-19th-annual-super-saturday\n",
      "/party-pictures/2016/paddle-party-for-pink\n",
      "/party-pictures/2016/hope-and-valor\n",
      "/party-pictures/2016/the-watermill-centers-fada-house-of-madness-summer-benefit\n",
      "/party-pictures/2016/serious-moonlight\n",
      "/party-pictures/2016/walk-of-hope\n",
      "/party-pictures/2016/the-view-from-the-top\n",
      "/party-pictures/2016/what-you-might-have-missed\n",
      "/party-pictures/2016/empowering-women-and-awarding-men\n",
      "/party-pictures/2016/transforming-and-beautifying\n",
      "/party-pictures/2016/empowerment\n",
      "/party-pictures/2016/awards-and-accolades\n",
      "/party-pictures/2016/celebrating-fashion-fun-and-flora\n",
      "/party-pictures/2016/sliding-into-summer\n",
      "/party-pictures/2016/a-touch-of-gold\n",
      "/party-pictures/2016/pivotal-moments\n",
      "/party-pictures/2016/recipients-performers-and-well-wishers\n",
      "/party-pictures/2016/the-society-of-memorial-sloan-kettering-gray-matters-and-icmec\n",
      "/party-pictures/2016/dressed-for-the-occasion\n",
      "/party-pictures/2016/looking-for-answers\n",
      "/party-pictures/2016/anniversary-celebrations\n",
      "/party-pictures/2016/love-and-art\n",
      "/party-pictures/2016/friends-and-community-members\n",
      "There are 50 albums in total\n"
     ]
    }
   ],
   "source": [
    "# print all album names so far\n",
    "for i in range(0,len(div_list)):\n",
    "    parser.feed(div_list[i])\n",
    "\n",
    "print \"There are \"+str(i+1)+\" albums in total\""
   ]
  },
  {
   "cell_type": "code",
   "execution_count": 31,
   "metadata": {
    "collapsed": true
   },
   "outputs": [],
   "source": [
    "# Now we loop over the pages to get all the albums on the site...\n",
    "# sub-select from a data range\n",
    "# extract all captions\n",
    "# extract captions with less than 250 characters - longer captions are not just names...\n",
    "# make a network graph!"
   ]
  },
  {
   "cell_type": "code",
   "execution_count": 32,
   "metadata": {
    "collapsed": false
   },
   "outputs": [],
   "source": [
    "master_list = []\n",
    "for i in range(3,5): #28): # old project date range\n",
    "#for i in range(0,28): # very dirty getting rid of date stuff\n",
    "    response = requests.get(url, params={\"page\": i})\n",
    "    #wait time\n",
    "    #print response.url\n",
    "    soup = BeautifulSoup(urllib2.urlopen(response.url),\"lxml\")\n",
    "    parent_div = soup.find('div', attrs={'class': 'view-content'}) #Find (at most) *one*\n",
    "    link_divs = parent_div.find_all('div', attrs={'class':'views-row'})  #Find *all*\n",
    "    #print len(link_divs)\n",
    "    #print link_divs[0]\n",
    "    #break\n",
    "    new_list = []\n",
    "    for j in range(0,len(link_divs)):\n",
    "        new_list.append(str(link_divs[j]))\n",
    "        parser_2.feed(new_list[j])\n",
    "        #print parser_2.data\n",
    "        #break\n",
    "        master_list.append(parser_2.data)\n",
    "\n",
    "    time.sleep(1)"
   ]
  },
  {
   "cell_type": "code",
   "execution_count": 33,
   "metadata": {
    "collapsed": false
   },
   "outputs": [
    {
     "name": "stdout",
     "output_type": "stream",
     "text": [
      "100\n"
     ]
    }
   ],
   "source": [
    "print len(master_list)"
   ]
  },
  {
   "cell_type": "code",
   "execution_count": 34,
   "metadata": {
    "collapsed": false
   },
   "outputs": [
    {
     "data": {
      "text/plain": [
       "['/party-pictures/2015/madoo-in-manhattan-pmp-in-palm-beach',\n",
       " '/party-pictures/2015/love-heals',\n",
       " '/party-pictures/2015/citymeals-on-wheels-mount-sinai-hospital-un-women-for-peace-and-the-red-cross',\n",
       " '/party-pictures/2015/ripa-eight-over-eighty-trees-new-york-and-fabulous-at-any-age',\n",
       " '/party-pictures/2015/bunny-hop-the-boys-club-old-bags-and-more',\n",
       " '/party-pictures/2015/sab-the-jewish-museum-roundabout-theatre-and-faces',\n",
       " '/party-pictures/2015/adaa-art-show-bronx-museum-the-china-arts-foundation-international-and-the-palm',\n",
       " '/party-pictures/2015/the-60th-anniversary-of-the-viennese-opera-ball-and-mcnys-directors-council',\n",
       " '/party-pictures/2015/the-new-york-philharmonic-the-new-york-botanical-garden-longhouse-reserve-and',\n",
       " '/party-pictures/2015/mission-accomplished',\n",
       " '/party-pictures/2015/philanthropic-endeavors',\n",
       " '/party-pictures/2015/dining-with-the-divas',\n",
       " '/party-pictures/2015/fielding-dreams',\n",
       " '/party-pictures/2015/generosity-leadership',\n",
       " '/party-pictures/2015/young-new-yorkers',\n",
       " '/party-pictures/2015/preservation-and-care',\n",
       " '/party-pictures/2015/young-collectors-and-benefactors',\n",
       " '/party-pictures/2015/a-public-service',\n",
       " '/party-pictures/2015/adventures-to-and-from',\n",
       " '/party-pictures/2015/was-and-abt',\n",
       " '/party-pictures/2015/starlets-designers-and-art-lovers',\n",
       " '/party-pictures/2015/great-expectations',\n",
       " '/party-pictures/2015/new-york-to-palm-beach-and-back-again',\n",
       " '/party-pictures/2015/from-the-garden-conservatory-to-the-beach-bash',\n",
       " '/party-pictures/2015/expertise-and-excellence',\n",
       " '/party-pictures/2014/with-champagne-a-filling',\n",
       " '/party-pictures/2014/high-above-their-heads',\n",
       " '/party-pictures/2014/holiday-cheer',\n",
       " '/party-pictures/2014/winter-wonderland-ball',\n",
       " '/party-pictures/2014/holiday-dinners-and-doers',\n",
       " '/party-pictures/2014/family-fundraising-events',\n",
       " '/party-pictures/2014/family-gatherings',\n",
       " '/party-pictures/2014/expert-eye',\n",
       " '/party-pictures/2014/every-day-is-a-holiday',\n",
       " '/party-pictures/2014/the-thanksgiving-day-parade-from-the-ground-up',\n",
       " '/party-pictures/2014/gala-guests']"
      ]
     },
     "execution_count": 34,
     "metadata": {},
     "output_type": "execute_result"
    }
   ],
   "source": [
    "master_list[:36] # so with normal parser we get none with the _2 parser we get null '' string! ? why ?"
   ]
  },
  {
   "cell_type": "code",
   "execution_count": 35,
   "metadata": {
    "collapsed": false
   },
   "outputs": [
    {
     "data": {
      "text/plain": [
       "str"
      ]
     },
     "execution_count": 35,
     "metadata": {},
     "output_type": "execute_result"
    }
   ],
   "source": [
    "type(master_list[0])"
   ]
  },
  {
   "cell_type": "code",
   "execution_count": 36,
   "metadata": {
    "collapsed": false
   },
   "outputs": [
    {
     "data": {
      "text/plain": [
       "65"
      ]
     },
     "execution_count": 36,
     "metadata": {},
     "output_type": "execute_result"
    }
   ],
   "source": [
    "new_list2014 = master_list[35:]\n",
    "len(new_list2014)"
   ]
  },
  {
   "cell_type": "code",
   "execution_count": 37,
   "metadata": {
    "collapsed": false
   },
   "outputs": [
    {
     "data": {
      "text/plain": [
       "'/party-pictures/2014/gala-guests'"
      ]
     },
     "execution_count": 37,
     "metadata": {},
     "output_type": "execute_result"
    }
   ],
   "source": [
    "new_list2014[0] # we want to start with '/party-pictures/2014/gala-guests' - number increases as we move into future"
   ]
  },
  {
   "cell_type": "code",
   "execution_count": 46,
   "metadata": {
    "collapsed": false
   },
   "outputs": [],
   "source": [
    "# You know what this does, right?\n",
    "# It gets all the div data in one swoop\n",
    "\n",
    "def myhtmlcall(link):\n",
    "    url =  \"http://www.newyorksocialdiary.com\" + link\n",
    "    return requests.get(url).text\n",
    "    \n",
    "p = Pool(8)\n",
    "newobj  = p.map(myhtmlcall, new_list2014)\n",
    "\n",
    "\n",
    "# save to pickle\n",
    "with open(\"all_div_all_captions.pickle\", \"wb\") as file:\n",
    "    pickle.dump(newobj, file)\n",
    "    \n",
    "# read in as n = pickle.load(open('file.pickle', 'rb'))"
   ]
  },
  {
   "cell_type": "code",
   "execution_count": 47,
   "metadata": {
    "collapsed": false
   },
   "outputs": [
    {
     "data": {
      "text/plain": [
       "u'<!DOCTYPE html>\\n  <!--[if IEMobile 7]><html class=\"no-js ie iem7\" lang=\"en\" dir=\"ltr\"><![endif]-->\\n '"
      ]
     },
     "execution_count": 47,
     "metadata": {},
     "output_type": "execute_result"
    }
   ],
   "source": [
    "# only print this if len(new_list2014) < 100 or\n",
    "newobj[0][0:100]"
   ]
  },
  {
   "cell_type": "code",
   "execution_count": 48,
   "metadata": {
    "collapsed": true
   },
   "outputs": [],
   "source": [
    "oldobj = pickle.load(open('all_div_all_captions.pickle', 'rb'))"
   ]
  },
  {
   "cell_type": "code",
   "execution_count": 49,
   "metadata": {
    "collapsed": false
   },
   "outputs": [
    {
     "data": {
      "text/plain": [
       "u'<!DOCTYPE html>\\n  <!--[if IEMobile 7]><html class=\"no-js ie iem7\" lang=\"en\" dir=\"ltr\"><![endif]-->\\n '"
      ]
     },
     "execution_count": 49,
     "metadata": {},
     "output_type": "execute_result"
    }
   ],
   "source": [
    "oldobj[0][0:100]"
   ]
  },
  {
   "cell_type": "code",
   "execution_count": 55,
   "metadata": {
    "collapsed": true
   },
   "outputs": [],
   "source": [
    "#BAD# create a subclass and override the handler methods\n",
    "class MyHTMLParser3(HTMLParser):\n",
    "    def handle_starttag(self, tag, attrs):\n",
    "        if tag == \"a\":\n",
    "            #print \"Encountered a start tag:\", tag\n",
    "            for name, value in attrs:\n",
    "                self.data = value # this overwrites the data aspect which is our captions\n",
    "                #print value\n",
    "    def handle_endtag(self, tag):\n",
    "        return\n",
    "        #print \"Encountered an end tag :\", tag##\n",
    "\n",
    "    def handle_data(self, data):\n",
    "        self.data = data\n",
    "        \n",
    "        #print \"Encountered some data  :\", data\n",
    "        "
   ]
  },
  {
   "cell_type": "code",
   "execution_count": 56,
   "metadata": {
    "collapsed": true
   },
   "outputs": [],
   "source": [
    "parser2 = MyHTMLParser_2()\n",
    "parser3 = MyHTMLParser3()"
   ]
  },
  {
   "cell_type": "code",
   "execution_count": 61,
   "metadata": {
    "collapsed": false
   },
   "outputs": [
    {
     "name": "stdout",
     "output_type": "stream",
     "text": [
      "5631 5631 5631\n"
     ]
    }
   ],
   "source": [
    "caption_div = []\n",
    "caption_indx = []\n",
    "master_caps = []\n",
    "master_caps2 = []\n",
    "for i in range(0,len(newobj)):\n",
    "    soup = BeautifulSoup(newobj[i],\"lxml\")\n",
    "    # this is the crucial step - this is where you miss captions!\n",
    "    caption_divs_main = soup.find_all('font', attrs={'face': 'Verdana, Arial, Helvetica, sans-serif'}) #Find all* # 5385\n",
    "    ####caption_divs1 = soup.find_all('div', attrs={'class': 'photocaption'}) #Find all* # 73113\n",
    "    caption_divs2 = soup.find_all(\"div\", {'align': 'center', 'class': 'photocaption'}, text=True)\n",
    "    caption_divs3 = soup.find_all(\"td\", {'valign': 'top', 'class': 'photocaption'}, text=True)\n",
    "    caption_divs4 = soup.find_all(\"td\", {'valign': 'top', 'class': 'photocaption', 'style': 'background-color:#faf9ee'}, text=True)\n",
    "    ###caption_divs = soup.find_all(\"font\", {'size': 1, 'face': 'Verdana, Arial, Helvetica, sans-serif'}, text=True) #5301\n",
    "    caption_divs = caption_divs_main + caption_divs2 + caption_divs3 + caption_divs4\n",
    "    #  print caption_divs_main # useful for debugging\n",
    "    #  caption_divs = caption_divs_main\n",
    "    caption_indx.append(len(caption_divs))\n",
    "    for j in range(0,len(caption_divs)):\n",
    "        master_caps.append(caption_divs[j])\n",
    "        #print caption_divs[j]\n",
    "        parser3.feed(str(caption_divs[j]))\n",
    "        master_caps2.append(parser3.data)\n",
    "        #parser2.feed(str(caption_divs[j]))\n",
    "        #master_caps2.append(parser2.data)\n",
    "print len(master_caps), sum(caption_indx), len(master_caps2)"
   ]
  },
  {
   "cell_type": "code",
   "execution_count": 65,
   "metadata": {
    "collapsed": false
   },
   "outputs": [
    {
     "data": {
      "text/plain": [
       "[<div align=\"center\" class=\"photocaption\">The scene at   IDEAL School &amp; Academy\\u2019s  10th\\xa0Annual Gala.</div>,\n",
       " <div align=\"center\" class=\"photocaption\"> Les Lieberman, Barri Lieberman, Isabel Kallman, Trish Iervolino, and Ron Iervolino </div>]"
      ]
     },
     "execution_count": 65,
     "metadata": {},
     "output_type": "execute_result"
    }
   ],
   "source": [
    "master_caps[0:2]"
   ]
  },
  {
   "cell_type": "code",
   "execution_count": 66,
   "metadata": {
    "collapsed": false
   },
   "outputs": [
    {
     "data": {
      "text/plain": [
       "[' Academy\\xe2\\x80\\x99s  10th\\xc2\\xa0Annual Gala.',\n",
       " ' Les Lieberman, Barri Lieberman, Isabel Kallman, Trish Iervolino, and Ron Iervolino ']"
      ]
     },
     "execution_count": 66,
     "metadata": {},
     "output_type": "execute_result"
    }
   ],
   "source": [
    "master_caps2[0:2]"
   ]
  },
  {
   "cell_type": "code",
   "execution_count": 67,
   "metadata": {
    "collapsed": false
   },
   "outputs": [
    {
     "name": "stdout",
     "output_type": "stream",
     "text": [
      " Congresswoman Carolyn Maloney and Manhattan Borough President Gale Brewer \n"
     ]
    }
   ],
   "source": [
    "print str(master_caps2[1345])"
   ]
  },
  {
   "cell_type": "code",
   "execution_count": 68,
   "metadata": {
    "collapsed": true
   },
   "outputs": [],
   "source": [
    "#sum = 0\n",
    "list250char = []\n",
    "#print len(master_caps2[1345])\n",
    "for i in range(0,len(master_caps2)):\n",
    "    if len(str(master_caps2[i])) > 249: # was 250\n",
    "        pass\n",
    "        #print i, str(master_caps2[i])\n",
    "        #sum += 1\n",
    "    else:\n",
    "        list250char.append(master_caps2[i])"
   ]
  },
  {
   "cell_type": "code",
   "execution_count": 69,
   "metadata": {
    "collapsed": false
   },
   "outputs": [
    {
     "data": {
      "text/plain": [
       "[' Academy\\xe2\\x80\\x99s  10th\\xc2\\xa0Annual Gala.',\n",
       " ' Les Lieberman, Barri Lieberman, Isabel Kallman, Trish Iervolino, and Ron Iervolino ',\n",
       " ' Chuck Grodin ',\n",
       " ' Diana Rosario, Ali Sussman, Sarah Boll, Jen Zaleski, Alysse Brennan, and Lindsay Macbeth ',\n",
       " ' Kelly  and Tom Murro ',\n",
       " ' Udo Spreitzenbarth ',\n",
       " ' Ron Iervolino, Trish Iervolino, Russ Middleton, and Lisa Middleton ',\n",
       " ' Barbara Loughlin, Dr. Gerald Loughlin, and Debbie Gelston ',\n",
       " ' Julianne Michelle ',\n",
       " ' Heather Robinson, Kiwan Nichols, Jimmy Nichols, Melanie Carbone, and Nancy Brown ',\n",
       " ' Bill Mack and Les Lieberman ',\n",
       " ' Dr. David Lyden and Patricia Sorenson ',\n",
       " ' Jimmy Cayne, Vince Tese, and Pat Cayne ',\n",
       " ' Stuart Oran, Les Lieberman, and Hilary Oran ',\n",
       " ' Vince Tese and Chuck Grodin ',\n",
       " ' Dwight Gooden and Les Lieberman ',\n",
       " ' Dr. Amy Cunningham-Bussel, Ray Mirra, and Dr. Tyler Janovitz ',\n",
       " ' Dan Shedrick and Samara Heafitz ',\n",
       " ' Cass and Jason Adelman ',\n",
       " ' Bart Scott and Mark Laplander ',\n",
       " ' Mitch Rubin, Audra Zuckerman, Michelle Smith, Kenneth Mehlman, Julia Harquail, and John Hackett ',\n",
       " ' Audra Zuckerman, Michelle Smith, and Julia Harquail ',\n",
       " ' Judy Poller and Rob Affuso ',\n",
       " ' Angela Bergeson ',\n",
       " ' David Byrnes and Concetta Bencivenga ',\n",
       " ' Nicole Dicocco ',\n",
       " ' Henry Kravis, Kenneth Mehlman, and Mitch Rubin ',\n",
       " ' Anne Jameson and Jay Eisenhofer ',\n",
       " ' Billy Morrissey and Brittany Brown ',\n",
       " ' Lee Ellenberg ',\n",
       " ' Carter Bays and Craig Thomas ',\n",
       " ' Melissa Errico, Todd Hollander, and Natalia Bulgari ',\n",
       " ' George Lichtblau, Anne Lichtblau, and Dr. Sig Ackerman ',\n",
       " ' Daniel Murphy, Deann Murphy, Jessica Farrell, and Ken Farrell ',\n",
       " ' Jonny Podell ',\n",
       " ' Ashley McDermott ',\n",
       " ' Caroline Dean ',\n",
       " ' Jena Silverman, John Silverman, Tess Silverman, and Dara Silverman ',\n",
       " ' Jaime Gleicher and Jared Seligman ',\n",
       " ' Fred Feiner, Ricki Feiner, Sandie Greene, and Bob Greene ',\n",
       " ' Kelly Mulderry, Ted Murphy, and Marci Murphy ',\n",
       " ' Michael Cominotto, Gigi Grimstad, and Dennis Basso ',\n",
       " ' Mark Bessler, Andrea Ziegelman, and Alex Figueroa ',\n",
       " ' Dana and Jamie Creel ',\n",
       " ' Dana Taylor, Baird Ryan, and Alexia Hamm Ryan ',\n",
       " ' Kurt Henckels and Lance Lundeberg ',\n",
       " ' William Candelaria, Mark Brendel, Yaz Hernandez, Dennis Basso, and Giulia Caltagirone ',\n",
       " ' Guy Robinson, Elizabeth Stribling, and Fernanda Kellogg ',\n",
       " ' Eleanor Noell ',\n",
       " ' Melissa Errico ',\n",
       " ' Outside the tent ',\n",
       " ' Under the tent',\n",
       " ' Jenny Price, Sharon Jacob, Stephanie Shuman, Gillian Miniter, and Deborah Roberts ',\n",
       " ' Cynthia Conway, Tom Kempner, Luann Blowers, and David Blowers ',\n",
       " ' Michael  and Jenny Price ',\n",
       " ' Bob  and Suzanne Cochran ',\n",
       " ' Patsy and Jeff Tarr ',\n",
       " ' Fred and Stephanie Shuman ',\n",
       " ' Gillian and Sylvester Miniter ',\n",
       " ' Iffie Okoronkwo Aitkenhead, Agenia Clark, Deborah Roberts, and Fiona Rudin ',\n",
       " ' Michael  and Lise Evans ',\n",
       " ' Fe  and Alessandro Fendi ',\n",
       " ' Jill Ross, Sharon Teles, and Eby McKay ',\n",
       " ' Kathryn Chenault and Carol Sutton Lewis ',\n",
       " ' Nancy and Dan Paduano ',\n",
       " ' Andrea Fahnestock and George Hambrecht ',\n",
       " ' Judy Angelo and Doug Blonsky ',\n",
       " ' James Scott, Barbara Scott, Julie Miller, and Kamie Lightburn ',\n",
       " ' Bill and Anne Harrison ',\n",
       " ' Mitchell  and Mary Silver ',\n",
       " ' Gillian Miniter and William Zeckendorf ',\n",
       " ' Michelle Smith and Tom Gold ',\n",
       " ' Patti Harris, Tom Kempner, and Veronica White ',\n",
       " \"Jon Batiste and Marcus Miller at The NAACP Legal Defense and Educational Fund's  28th annual National Equal Justice Award Dinner.\",\n",
       " 'Sherrilyn Ifill and Geoffrey Canada',\n",
       " 'Sherrilyn Ifill and Debra Lee',\n",
       " 'Deborah Roberts, Bernard Tyson, and Gerald Adolph',\n",
       " 'Yvonne and Geoffrey Canada',\n",
       " 'Denise Tyson and Judith Byrd',\n",
       " 'Philip Wells, Tonya Lewis Lee, Ted Wells, and Byron Pitts',\n",
       " 'Angela Vallot and Deborah Roberts',\n",
       " 'Star Jones and Frank Ahimaz',\n",
       " 'Debra Lee with Denise and Bernard Tyson',\n",
       " 'Debra Lee and Jon Batiste',\n",
       " 'Leah Aden with friends',\n",
       " 'Amsale Aberra, Amelia Ogunleis,and friends',\n",
       " 'Nina Wells and Gay McDougall',\n",
       " 'Janai Nelson and Benjamin Talton',\n",
       " 'Debby and Jack Greenberg',\n",
       " 'Jonelle Procope and Frank Ahimaz',\n",
       " 'Geoffrey Canada and Judith M. Scheide',\n",
       " 'Bruce Gordon, Tonya Lewis Lee, and Charles Atkins',\n",
       " 'John Utendahl, Debra Lee, and Debra Martin Chase',\n",
       " 'Tasha Smith and friend',\n",
       " 'Jonathan Soros and Gwen Adolph',\n",
       " 'Philip Wells, Henry \"Hank\" Aaron, and Ted Wells, Jr.',\n",
       " 'Susan Fales-Hill and Darren Walker',\n",
       " ' Dennis Brownlee and Gabriella Morris ',\n",
       " 'Cheryl Brown Henderson, Sherrilyn Ifill, and Osceola Brown',\n",
       " 'Angela Vallot and Gwen Adolph',\n",
       " 'Jon Batiste',\n",
       " 'Janet Dewart Bell, Sherrilyn Ifill, and Lisa Boykin ',\n",
       " 'Debra Martin Chase and Laurie Robinson Haden',\n",
       " 'Michele Linton',\n",
       " 'Sherrilyn Ifill, Dwight Johnson, Jon Batiste, and Marcus Miller',\n",
       " ' Madelaine Cohen, Kimberly Tighe, Lisa Ling, Barbara Cohen, and Melissa Pordy ',\n",
       " ' Yousaf Ali, Dr. Douglas Dieterich, Barbara Murphy, and Alice Levine ',\n",
       " ' Adrianne Silver, Sondra Mack, and Susan Mark ',\n",
       " ' Dr. Alice Levine and Dr. Yousaf Ali ',\n",
       " ' Dr. Barbara Murphy and Dr. David Reich ',\n",
       " ' Kimberly Tighe and Madelaine Cohen ',\n",
       " ' Peter W. May and Lisa Ling ',\n",
       " ' Jane Rittmaster, Joan Raines, Vivian Farah, and Ginny Aaron ',\n",
       " ' Jane Whitney and Maura Duffy ',\n",
       " ' Dr. Michael Brodman, Dr. Mary Ann McLaughlin, Kimberly Tighe, and Barbara Murphy ',\n",
       " ' Dr. Peter Dottino and Dr. Marie-Noelle Langan ',\n",
       " ' The Lauder table ',\n",
       " ' Michael Schantz, Nina Muller, Peter and Andrea Klein, and Beverly Bell ',\n",
       " ' Ron Goldstein, Margy Hargrave, and Diane and Dan Barry ',\n",
       " ' Sarah Bay Williams, Paul Gachot, Richard Gachot, the Honorable Dana Winslow, Emily Franchina, and Franklin Hill Perrell ',\n",
       " ' Lisa and Gilbert Ott, Carol and Jim Large, and Meredith and Frank Olt ',\n",
       " ' Thomas and Devon Carroll, Kim Testa, and Kingsley Woolworth ',\n",
       " ' Franklin Hill Perrell, Christine and John Gachot, and Sarane Ross ',\n",
       " ' Denyse Duval Pugsley, Sealy Hopkinson, and Jonathan Wehle ',\n",
       " ' Charles Holcomb and Patricia Sands ',\n",
       " ' Ed and Pat Travaglianti with Carol and Ed Clarke ',\n",
       " ' Paul Gachot, Sarah Bay Williams, and James Tiberg ',\n",
       " ' Thomas and Diahn McGrath with Robert and Jon Cooper ',\n",
       " ' Bart Tiernan, Dr. James Watson, and Nini Tiernan ',\n",
       " ' Richard Weir, Rita Roselle, Cynthia Jay, Julie Rinaldini, Stephen Jay, and Luis Rinaldini ',\n",
       " ' John and Bonnie Williamson, Rusty and Peggy McCormack, and Diane and Dan Barry ',\n",
       " ' Doug and Chris Fox with Paul Vermylen ',\n",
       " ' Dr. and Mrs. Mykola Alyskewycz ',\n",
       " ' Brendan and Kathleen FitzGerald ',\n",
       " ' Jim and Eileen Cahill with MaryAnn and Peter Hurd ',\n",
       " ' Caroline Gerry and Stephen Jay ',\n",
       " ' Michael Plackis, Teresa Martin, and Robert Cooper ',\n",
       " ' Peri and Martin Wenz with Margie Burkett ',\n",
       " ' Bob and Debbie Hussey with Jonathan Wehle ',\n",
       " ' Clint Finlayson, Lynda and Jacques Busquet, and Peter White ',\n",
       " ' Ted Bahr, Mr. and Mrs. Bob Mackay, Jonathan Wehle, Frank Olt, and Jackie Olt ',\n",
       " ' Chris Nottonson, Lawrence Smith, and Ann Marie Mirabile ',\n",
       " ' David Hidalgo, UALC board member, Mary Ann Tighe, UALC board president, Aaron Tighe, UALC board member, Anne-Marie Olson Kahn, and Todd Kahn ',\n",
       " ' Laurie Golub and Suri Kasirer ',\n",
       " ' Deborah Kern and Pamela Liebman ',\n",
       " ' Rebecca and Ben Malinsky, Carolyn Malinsky, event co-chair, and Aaron Malinsky ',\n",
       " ' David Greenbaum, Mary Ann Tighe, UALC board president, and Glen Weiss ',\n",
       " ' JD Chalm\\xc3\\xa9, Hy Chalm\\xc3\\xa9, Robin Chalm\\xc3\\xa9, Ray Chalm\\xc3\\xa9, UALC board member, and Vanessa Chalm\\xc3\\xa9 ',\n",
       " ' James Regan, Cyrus Izzo and Tom Scarangello, UALC board member ',\n",
       " ' Tim Dempsey, Jon Mechanic, Tommy Craig, and Robert Knakal ',\n",
       " ' Roxanne Donovan, UALC board member, and Ted Moudis ',\n",
       " ' Suzi Hill, Karen Asprea, Stephanie Schroeder, and L. Stephen Hill ',\n",
       " ' Sharif El-Gamal, Soho Properties, Sammy El-Gamal, Aziz Friedrich, Andee Radu, and Daniel Parker ',\n",
       " ' Mitti Liebersohn and Melissa Greenwald ',\n",
       " ' Milo Riverso and Tony Schirripa ',\n",
       " 'Fujiko Nakaya\\'s \"Veil\" envelops the  Glass House.',\n",
       " ' Harpist Mary Lattimore',\n",
       " ' Charles Renfro, Tony Vidler, James Welling, and Daniel Gortler',\n",
       " ' Margaret Russell, Henry Urbach, and Margareth Henriquez',\n",
       " ' Carlos Souza and Charlene de Ganay',\n",
       " ' Bonnie Morrison and Douglas Friedman',\n",
       " ' Procession over the eyebrow bridge on way to Painting Gallery',\n",
       " ' Martha Stewart and Charles Renfro',\n",
       " ' Margaret Russell, Martha Stewart, Susan Magrino Dunning, Margareth Henriquez, Reed Krakoff, Emma O\\xe2\\x80\\x99Neill, John Yunis, and John Calcagno',\n",
       " ' Lee Mindel, Margaret Russell, Tomas Maier, Martha Stewart, Susan Magrino Dunning',\n",
       " ' Bill Katz, Bonnie Morrison, Douglas Friedman, Henry Urbach, Laurie Beckelman, James Sanders, Tony Vidler, and Charles Renfro',\n",
       " ' Monica Rich Kosann and Reed Krakoff',\n",
       " ' Hendel Teicher',\n",
       " ' Henry Urbach and Charles Renfro',\n",
       " ' Lori Tritsch and William Lauder',\n",
       " ' Margaret Russell in the Sculpture Gallery',\n",
       " ' Martha Stewart, Laura Pla, Tomas Maier, and Andrew Preston',\n",
       " ' Margaret Russell, Carlos Souza, and Charlene de Ganay',\n",
       " ' Hermes Honoree Guillaume de Seuynes, Elizabeth Stribling, and Astrid Stanfield Pinel',\n",
       " ' Co-chairs Jean Shafiroff,   CeCe Black, Ursula Lowerre, Ann Van Ness,    Kazie Harvey, and  Deborah Royce',\n",
       " ' Guy Robinson, Fernanda Kellogg, and Kirk Henckels',\n",
       " ' Bruce Horten and Barbara de Portago',\n",
       " ' Dr. Penny Grant and Michel Witmer',\n",
       " ' Baroness Laurie Bodor and William Ivey Long',\n",
       " ' Cole Rumbough and Bettina Bennett',\n",
       " ' Cynthia and Anthony Maltese',\n",
       " ' Irene Aitken and Konrad Keesee',\n",
       " ' Margaret Chase Hager and Chiu-Ti Jansen',\n",
       " ' Timothy Corrigan',\n",
       " ' Odile de Schi\\xc3\\xa9t\\xc3\\xa8re-Longchampt, CeCe Black, and Timothy Corrigan',\n",
       " ' Alex Donner, Jean Shafiroff, and Geoffrey Bradfield',\n",
       " ' Ann Van Ness, Elizabeth Stribling, and Patricia Shiah',\n",
       " ' Peter and Barbara Regna with R. Couri Hay',\n",
       " ' Roy Keane and Ann Rapp',\n",
       " ' Silvina Leone and Ben Aguilar',\n",
       " ' Baroness Caroline Brownstone and Charles Revson',\n",
       " ' Margaret Russell',\n",
       " 'Dr. Dennis Trafny, Kathleen Mahaffey, and Scooby',\n",
       " 'CEO Kate Coyne, Robert Liberman, and Libby Monaco',\n",
       " 'Cass and Jason Adelman',\n",
       " 'Arriana Boardman and Flo Fulton Miller',\n",
       " 'Kristin Fisher Allen, Virginia Wettlaufer, Lily Maddock, and Travis Acquavella',\n",
       " 'Dr. Dennis Trafny and Dr. Robert Hart',\n",
       " 'Dr. Ann Hohenhaus and Michael Heaner',\n",
       " 'Grammy\\xe2\\x80\\x90Award winning artist and Children\\'s Right honoree Shaffer \"Ne\\xe2\\x80\\x90Yo\" Smith with former foster youth Crystal Bentley and Edgar Carranza',\n",
       " 'CNN News Anchor and host of the benefit, Michaela Pereira',\n",
       " \" Katie Ford and Children's Rights Honoree, Molly Gochman\",\n",
       " 'Kasseem \"Swizz Beatz\" Dean with Rocco Bray',\n",
       " \"Children's Rights Honoree, Jared Bobrow and Children's Rights Interim Executive Director, Sandy Santana \",\n",
       " ' Joseph Belluck and Anne Strickland Squadron',\n",
       " 'Christine Schott Ledes, George Ledes, and Jackie Norden',\n",
       " 'Mark Kostabi',\n",
       " 'Robert Simon',\n",
       " 'Richard Ledes, Jean Shafiroff, and Paola Mieli',\n",
       " 'Kipton Cronkite',\n",
       " 'Cole Rumough and Kick Kennedy',\n",
       " 'Brian Maher, Ann Jensen, and Eric Jensen',\n",
       " 'Nicole DiCocco and Alex Donner',\n",
       " 'Consuelo Vanderbilt Costin and Gregory Speck',\n",
       " \"The Society of Memorial Sloan Kettering\\xe2\\x80\\x99s Associates Committee's  annual Fall Party at the Four Seasons Restaurant. \",\n",
       " 'Cocktails',\n",
       " 'Dancing',\n",
       " ' Travis Acquavella, Carolina de Neufville, Eleanor Ylvisaker, Martha Glass, Monique Lhuillier, and Shabnam Henry',\n",
       " ' Dani Stahl, Eleanor Ylvisaker, Shoshanna Gruss, and Patricia Lansing',\n",
       " \" Palmer O'Sullivan and Annie Taube\",\n",
       " ' Karla Martinez de Salas',\n",
       " ' Cynthia Cook Smith and Hayley Bloomingdale',\n",
       " ' Indre Rockefeller',\n",
       " ' Alex Acquavella and Mollie Ruprecht',\n",
       " ' Hadley Reynolds, Sara Peters, and Clare McKeon',\n",
       " ' Monique Lhuillier and Gretchen Gunlocke Fenton',\n",
       " ' Natalie Leeds Leventhal and Nina Garcia',\n",
       " ' Wes Gordon and Paul Arnhold',\n",
       " ' Veronica Beard',\n",
       " ' Bettina Santo Domingo',\n",
       " ' Marcie Pantzer',\n",
       " ' Eleanora Kennedy and Anna Kennedy Safir',\n",
       " ' Jenny Galluzzo and Charlotte Ronson',\n",
       " ' Kelly Turlington Burns and Brian Burns',\n",
       " ' Joanna Baker de Neufville',\n",
       " ' Brett Heyman and Ferebee Taube',\n",
       " ' Amanda Meigher and Nina Carbone',\n",
       " ' Sarah Lanni and Mollie Ruprecht',\n",
       " ' Joseph Singer, Mish Tworkowski, and Tom Bugbee',\n",
       " ' Monique Lhuillier, Jessica Sailer van Lith, and Tom Bugbee',\n",
       " ' Carolina de Neufville and Alvin Valley',\n",
       " ' Monique Lhuiller and Bronson Van Wyck',\n",
       " ' Jose Luis Los Arcos  and Caroline Los Arcos',\n",
       " ' Grace Fuller',\n",
       " ' Martha Sharp and Leslie Heaney',\n",
       " ' Nick Acquavella and Dixon Boardman',\n",
       " ' Kim Flaster, Shoshanna Gruss, and Monique Lhuillier',\n",
       " ' Sylvana Durrett',\n",
       " ' Eugenie Niven Goodman and Martha Glass',\n",
       " ' Liz Walker Swenson',\n",
       " ' Martha Glass, Lisa Errico, and Carolina de Neufville',\n",
       " ' Edward Barsamian and Rickie de Sole',\n",
       " ' Jamie Niven and Lela Rose',\n",
       " ' Barret Swatek and Leslie Finerman',\n",
       " ' Alexandra Lind Rose, Jackie Astier, and Emilia Fanjul Pfeifler',\n",
       " ' Courtney and David Corleto',\n",
       " 'Zita Davisson, Nancy Gehman, Lyn McMillan, Jean Astrop,and Euge\\xcc\\x81nie Angle\\xcc\\x80s',\n",
       " \"Elaine Leary, Baroness Didi d'Anglejan, Princess Kenize\\xcc\\x81 Mourad, Euge\\xcc\\x81nie Angle\\xcc\\x80s, and Francis Dubois\",\n",
       " 'Carla Darlington and Zita Davisson',\n",
       " 'Judith Oringer and Andrew Kotchoubey',\n",
       " 'Sandrine  and Rod Kukurudz, Florian Boggia of Jeepers Champagne, and friend',\n",
       " 'Nancy Gehman, Irene Goodkind, and Jerry Gehman',\n",
       " 'Elaine Uzan Leary, Sandrine and Rod Kukurudz, and Mathilde Schneider',\n",
       " 'Sonja Morgan and Jay Paul',\n",
       " \"Euge\\xcc\\x81nie Angle\\xcc\\x80s, Charlie Scheips, and Didi d'Anglejan\",\n",
       " 'Curator Mathilde Schneider, Miles Morgan, Kaleeta Doolin, and Alan Govenar',\n",
       " 'Charlie poses with his book',\n",
       " \"Irene Goodkind, Lyn McMillan, Didi d'Anglejan, and Carla Darlington\",\n",
       " 'Andrea Stillman, Sonja Morgan, Euge\\xcc\\x81nie Angle\\xcc\\x80s, and Kate Wickham',\n",
       " 'Charlie signing his book',\n",
       " 'Ambassador Franc\\xcc\\xa7ois Delattre  and AFB president Euge\\xcc\\x81nie Angle\\xcc\\x80s',\n",
       " 'Sarah and Chips Page',\n",
       " 'Charlie Scheips  and Elaine Uzan Leary ',\n",
       " 'Victoria Vicunia, Miles Morgan, and Sonja Morgan',\n",
       " \"Princess Kenize\\xcc\\x81 Mourad and Baroness Didi d'Anglejan\",\n",
       " 'Euge\\xcc\\x81nie Angle\\xcc\\x80s  and Andrew Kortchoubey',\n",
       " 'French consul General Bertrand Lortholary, Jeri and George Sape, Sophie and Ambassador Franc\\xcc\\xa7ois Delattre, and Dorothy and Ambassador Craig Stapleton',\n",
       " 'Jean Shafiroff, Sonja Morgan, and Nancy Gehman',\n",
       " 'John Mojdehi and Sonja Morgan',\n",
       " \"The scene at Michael's 25th anniversary celebration.\",\n",
       " ' Danny DiVella, Steve Millington, Kyung Up Lim, Robyn Levy-Wolf, Mario Moise, and Michael McCarty ',\n",
       " ' Blythe Danner, Dr. Ruth Westheimer, and Laurie Tisch ',\n",
       " ' Nancy Spears and Sissy Biggers ',\n",
       " ' Sean Kelly, Cecile Panzieri, and Lauren Kelly ',\n",
       " ' Paul Karian and Simone Karian ',\n",
       " ' Kim McCarty, Susan Magrino Dunning, and Allyn Magrino Holmberg ',\n",
       " ' Susan Silver and Joel Wachs ',\n",
       " ' Rikki Klieman and Steve Millington ',\n",
       " ' Ellen Niven and Cornelia Guest ',\n",
       " ' Liz Byrne and Gerry Byrne ',\n",
       " ' Joel Schnell and Lynn White ',\n",
       " ' Joan Kron and Jonathan Marder ',\n",
       " ' Paige Peterson ',\n",
       " ' L.A. Perkel, Jonathan Perkel, and Dagny Corcoran ',\n",
       " ' Scott Merkin and Susan Blond ',\n",
       " ' Shari Rollins and Rick Friedberg ',\n",
       " ' Les Moonves and Matt Blank ',\n",
       " ' Hilary Gumbel and Bryant Gumbel ',\n",
       " ' John Hart and Nicolle Meyer ',\n",
       " ' Debbie Bancroft and Daniel Benedict ',\n",
       " ' Kath Hinton and Les Hinton ',\n",
       " ' Edward Klein and Penny Worth ',\n",
       " ' Joanna Coles and Peter Godwin ',\n",
       " ' John Jacobson and Betsy Perry ',\n",
       " ' Randy Jones ',\n",
       " ' Annik Wolf and Michael Wolf ',\n",
       " ' Michelle Coppedge and Jamie MacGuire ',\n",
       " ' Jay McInerney and Anne Hearst McInerney ',\n",
       " ' Cece Cord ',\n",
       " ' Jean Doumanian ',\n",
       " ' David Hryck and Joan Jedell ',\n",
       " ' Alexander Julian and Megan Julian ',\n",
       " ' Vicky Ward ',\n",
       " ' Mort Hamburg ',\n",
       " ' Neal Fox and Martha Kramer ',\n",
       " ' James Crump and Ronnie Sassoon ',\n",
       " ' Robin Wolf and Jamie Levy ',\n",
       " ' Florence Fabricant, Richard Fabricant, Jerry Della Femina, and Judy Licht ',\n",
       " ' Roberta Allen, Lisa Birnbach, and Denise LeFrak Calicchio ',\n",
       " ' Judtih Pisar ',\n",
       " ' Al Roker ',\n",
       " ' Wendy Stark, Geroge Farias, and Amy Fine Collins ',\n",
       " ' John Hart and Nicolle Meyer ',\n",
       " ' Larry Spangler ',\n",
       " ' Geraldine Fabrikant ',\n",
       " ' Robin Wolf, Philippe Solomon, and Paula Solomon ',\n",
       " ' Tim Zagat and Nina Zagat ',\n",
       " ' Ben Slepian, Thom Filicia, Margo Slepian, and Greg Calejo ',\n",
       " ' John Koblin and Katie Rosman ',\n",
       " ' Michael McCarty, Connie Anne Phillips, and Armando Ruiz ',\n",
       " ' Michelle Fizer-Peterson, Charles Grodin, and Julio Peterson ',\n",
       " ' Patrick Murphy and Mary Murphy ',\n",
       " ' Marco Maccioni ',\n",
       " ' Jonathan Wald ',\n",
       " ' Ed Rollins and Shari Rollins ',\n",
       " ' Per Holmberg and Allyn Magrino Holmberg ',\n",
       " ' Jamie Niven, Mike Goldberg, Linda Fairstein, and David Patrick Columbia ',\n",
       " ' Sharon Bush and Oscar Plotkin ',\n",
       " ' Dick Soloway and Donna Soloway ',\n",
       " ' Michael McCarty, Sara Beth Shrager, and Rodney Hilton Brown ',\n",
       " ' George Farias and Wendy Stark ',\n",
       " ' Claire Mercury and Margo McNabb Nederlander ',\n",
       " ' Missy Falchi, Carlos Falchi, and Mickey Ateyeh ',\n",
       " ' Felicia Taylor and Reed Covone ',\n",
       " ' Paul Chapman and Camila Savia ',\n",
       " ' Jay Kriegel, Tim Zagat, Nina Zagat, and Gordon Davis ',\n",
       " ' Katie Lee Pollack and Stephanie Sporn ',\n",
       " ' Michelle Fizer-Peterson and Julio Peterson ',\n",
       " ' Diane Clehane, Anne Fulenwider, and Phoebe Eaton ',\n",
       " ' Paul Amann and Joe Fitzsimmons ',\n",
       " ' Debra Castel and Stan Parish ',\n",
       " ' Euan Rellie, Michael McCarty, and R. Couri Hay ',\n",
       " ' Richard Oldenberg ',\n",
       " ' Lauren Webb and Barry Frey ',\n",
       " ' Carol Austell and Jim Mitchell ',\n",
       " ' Wendy Moonan, Duncan Darrow, and Rhett Austell ',\n",
       " ' Leslie Stevens, Nina Burleigh, Bobby Freidman, and Bob Shaye ',\n",
       " ' TT Nguyen and Gregoire Vogelsang ',\n",
       " ' Roger Smith and Bob Shaye ',\n",
       " ' Monie Begley and Sessa von Richthofen ',\n",
       " ' Alex Newbold and Kristen Kirkland ',\n",
       " ' Kirsten Fleming, Mark Whitaker, Monie Begley, and Roger Moore ',\n",
       " ' Patrick McMullan, Michael McCarty, Richard Johnson ',\n",
       " ' Oliver Coleman and Emily Coleman ',\n",
       " ' Michael McCarty, Clancy McCarty, Chaz McCarty, and Kim McCarty ',\n",
       " ' Rhett Austell, Michael McCarty, Carol Austell, and Steve Millington ',\n",
       " ' Griffin Frazen, Jed Weisman, Hannah Glazebrook, and Anna Gray ',\n",
       " ' Kristina Alexandra Kovalyuk and Gregoire Vogelsang ',\n",
       " ' Richard Johnson and Sessa von Richthofen ',\n",
       " ' Vlady Giorgiva and Joe Rayo ',\n",
       " ' Sally Morgan-Lehman and Jay Lehman ',\n",
       " ' Jerry Inzerillo, Kevin Ryan, and Tom Rogers ',\n",
       " ' Liz Lange ',\n",
       " ' Nikki Haskell ',\n",
       " ' Gael Greene ',\n",
       " ' Alan Patricof ',\n",
       " ' Henry Schleiff ',\n",
       " ' Jane Notar, Richie Notar, and Jennifer Gould Keil ',\n",
       " ' Dan Abrams, Lynn Sherr, and Peggy Siegal ',\n",
       " ' Amy Kliger, Jack Kliger, and Michael McCarty ',\n",
       " ' James Dunning, Jr. and Michael McCarty ',\n",
       " ' Griffin Dunne, Joanna Coles, and Peter Godwin ',\n",
       " ' Stuart Sundlun and Jennifer Heidi ',\n",
       " ' Richard Johnson, David Kuhn, Leslie Stevens, and Kevin Thompson ',\n",
       " ' Boaty Boatwright and Lynn Nesbit ',\n",
       " ' Michael McCarty ',\n",
       " 'Lifeline New York Board members',\n",
       " 'Prince Alexander, Princess Katherine, and Prince Dmitri',\n",
       " 'Cheri Kaufman, Sharon Bush, and Janna Bullock',\n",
       " 'David Hyrke and Dora Tomanovich',\n",
       " 'Della Rounick, Bill Sclight, Lucia Hwong Gordon, and friend',\n",
       " 'Audrey Gruss and Susan Gutfreund',\n",
       " 'Janna Bullock and Karen Klopp',\n",
       " 'Sirio Maccioni and Dr. Ruth Westheimer',\n",
       " 'Mush Katkol, Sharon Bush, and Brian Murphy',\n",
       " 'Kamie Lightburn, Bill Sclight, and Paula Bacchini',\n",
       " 'Penelope Collins and Christine Triant',\n",
       " 'Andrew  and Dora Economides',\n",
       " \"ZZ Top's Billy Gibbons\",\n",
       " \"Blues Traveler's John Popper\",\n",
       " 'Warren Haynes of the Allman Brothers',\n",
       " 'Steve Daffron, Ron Kolber, and Lynette and Hank Hyatt',\n",
       " 'Marcella de Martin and Billy Lerner ',\n",
       " 'Natalie Anise and Eddie Trunk',\n",
       " 'George Chrisafis and Costas Kellas',\n",
       " 'Mike Scottie and John Withrow',\n",
       " 'Fara Hain Zerto and Cathy Andersen',\n",
       " 'Sir Martin Sorrell being interviewed about his life and career by PBS host Charlie Rose',\n",
       " 'Ronald Perelman, Charlie Rose, Sir Martin Sorrell, and Robert K. Kraft',\n",
       " \"Sir Martin Sorrell with Israel's Consul General in New York, Amb. Ido Aharoni\",\n",
       " 'Ronald O. Perelman, Robert K. Kraft, and Lorraine Bracco',\n",
       " 'Don Mattingly, Derek Jeter, Allen Popowitz (Board Chair), Jeffrey Loria (Dinner Co-Chair), and Keith Hernandez',\n",
       " 'Allen Popowitz, Don Mattingly, Dorine Gordon, Keith Hernandez, Bob Costas, and Franco Harris',\n",
       " 'Dorine Gordon, Jennifer Steinbrenner Swindal, and Liz Martin',\n",
       " 'Jeanette and Anthony Senerchia, Derek Jeter, and Patrick and Jenn Quinn',\n",
       " 'Kevin Brown Thompson and Derek Jeter',\n",
       " 'Kevin Brown Thompson and family with Eddie Redmayne',\n",
       " 'Tamsen Fadal, Lois Braverman, Suzanne Murphy, Javier Gomez, and Martha Fling',\n",
       " 'Laurie Sprayregen, Alice Netter, and James Sprayregen',\n",
       " 'Michele Scheinkman, Lois Braverman, and Marie Wilson',\n",
       " 'Arnold Syrop and Linda Dishy',\n",
       " 'Tamsen Fadal, Chris Gillespie, and Martha Fling',\n",
       " 'Nina Taselaar',\n",
       " 'Javier Gomez and Camilla Barungi',\n",
       " 'Valerie and Carl Kempner',\n",
       " 'Kristy Rao and Javier Gomez',\n",
       " 'Lois Braverman, Andrew Solomon, and Tamsen Fadal',\n",
       " 'Pieter Taselaar, Amy and Greg Eagen, and Nina Taselaar',\n",
       " 'Silvia Espinal, Dorimar Morales, and Erika Klein',\n",
       " ' Honorees Andrew Malcolm and Dan Bena ',\n",
       " ' ANDRUS Acting President and CEO Bryan R. Murphy with his wife Brooke Baran ',\n",
       " ' ANDRUS Director, Institutional Advancement Alessandra Rose and Gala Co-Chair Jon Dorf ',\n",
       " ' ANDRUS Vice President of Community-Based Programs Kerron Norman with Mr. and Mrs. Bradley and Barbara Baran          ',\n",
       " ' Demo DiMartile, Pajama Program Founder and Executive Director Genevieve Piturro, and Bryan R. Murphy ',\n",
       " ' Nicole Pelose and guest ',\n",
       " ' Mr.and Mrs. Andrew Roth ',\n",
       " 'Mr. and Mrs. Bradley and Barbara Baran with ANDRUS Vice President of Human Resources and Knowledge Management Tito Del Pilar ',\n",
       " ' Brooke Baran, Leslie Zeller, Tyrone Hodge, and Barbara Baran ',\n",
       " \"The scene at Ovarian Cancer Research Fund's 20th Anniversary Legends Gala, hosted by Harry Connick Jr.\",\n",
       " ' Pierce Brosnan and Harry Connick Jr. ',\n",
       " ' Pierce Brosnan ',\n",
       " ' Pierce Brosnan, Harry Connick Jr., Brooke Goodman Cohen, and OCRF Board Members',\n",
       " ' Victor Garber ',\n",
       " ' Tinsley Mortimer ',\n",
       " ' Chet Burros, Claudia Burros, Mara Sandler, and Ricky Sandler ',\n",
       " ' Dionne Warwick ',\n",
       " ' Chris Salgardo and Carol Hamilton ',\n",
       " ' Audra Moran, Pierce Brosnan, Brooke Goodman Cohen, and Chris Salgardo ',\n",
       " ' Nick Loeb and Kat Cohen ',\n",
       " ' Audra Moran, Harry Connick Jr., and Sol Schreiber ',\n",
       " ' Analeigh Tipton ',\n",
       " ' Kelly Rutherford ',\n",
       " ' Jillian Tapper ',\n",
       " ' Kat Cohen and Dori Cooperman ',\n",
       " ' Harry Connick Jr., Pierce Brosnan, and Chris Salgardo ',\n",
       " ' Sherry Jacobson, Harry Connick Jr., John Hansbury, and Brooke Goodman Cohen ',\n",
       " ' Ed Labaton, Audra Moran, and Sol Schreiber ',\n",
       " ' Catherine Malandrino and Kelly Rutherford with friends',\n",
       " ' Kara Gordon and Vita Giordano ',\n",
       " ' Lila Nejad and Taryn Manning ',\n",
       " ' Lisa Lampanelli and  Harry Connick Jr. ',\n",
       " ' Lieba Nesis, Joan Jedell, and David Hryck ',\n",
       " ' Rob Tilberis, Jeanette Chang, and Chris Tilberis ',\n",
       " ' Alison Brod and Maneesh Goyal ',\n",
       " ' Liz Margolies and Devorah Rose ',\n",
       " ' Dani Stahl, Charlotte Ronson, Katie Zorn, Chiara de Rege, Jennifer Liang, and Hilary Koyfman ',\n",
       " ' Alexis Preston, Katie Zorn, and Nicole Veras ',\n",
       " ' Jane Pellietere, Kenn Dudek, and Mary Ingriselli ',\n",
       " ' Honorees - Ben Howe, Lou Howe, and Luca Borghese ',\n",
       " ' Dick Zorn and Ilene Wetson ',\n",
       " ' Bill Murphy and Justyna Zajac ',\n",
       " ' Graziano de Boni, Valerie de Boni, Cliff Brokaw, and Mark Gilbertson ',\n",
       " ' Jose Luis Guerra and Florence Peyrelongue ',\n",
       " ' Katie Tozer, Jack Lynch, and Gillian Boyer ',\n",
       " ' John Rustum, Shannon Henderson, and Todd Henderson',\n",
       " ' Michael Clofine and Angela Clofine ',\n",
       " ' Bill Manger and Elizabeth Pyne ',\n",
       " ' Dick Zorn, Franny Zorn, Katie Zorn, and Lee Huebner ',\n",
       " ' Jo Garst and Tracy Lindwall ',\n",
       " ' Tracey Huff, Joseph Brandt, and Carol Brandt ',\n",
       " ' Elise McLean, Megan Henze, Fritz Franz, and Chrissy Franz ',\n",
       " ' Nicola White and Benjamin Zimbric ',\n",
       " ' Violetta Weddepohl, Nick Raynes, and Lil Phillips ',\n",
       " ' Alex Lipman, Sarah Simmons, Brooke Mountain, and Asher Lipman ',\n",
       " ' Megan Savage and Tyler Gaffney ',\n",
       " ' Ali Carter, Virginia Tracey, and Kate Brecht ',\n",
       " ' Carrie Howe, Lou Howe, Ellen Howe, and Ben Howe ',\n",
       " ' Mo Koyfman and Hilary Koyfman ',\n",
       " ' Angela Clofine and Paige Hardy ',\n",
       " ' Sloane Mikesell, Amanda Schumaker, Jamie Birkenhead, and Richard Birkenhead ',\n",
       " ' Jonathan Berger and Marjaleena Berger ',\n",
       " ' Berna Huebner and Shari Lusskin, MD ',\n",
       " ' Warren Tye, Giusi Cennamo, Ben Draper, and Jessica Caetano ',\n",
       " ' Elisa Gaede and Meagan Cowan-Barnes ',\n",
       " ' Liz Anderson, Rema Parachini, and Shannon Henderson ',\n",
       " ' Ben Howe, Helen Pennoyer, Daisy Keevil, and Luca Borghese ',\n",
       " ' Alexandra Fisher, Phil Fisher, and Diane Chachas ',\n",
       " ' Danielle Goldstein, Richard Donnell, and Leila Feinberg ',\n",
       " ' Ecaterina Andreev, Warren Tye, and Giusi Cennamo ',\n",
       " ' Katherine Todd and Jaimee Zanzinger ',\n",
       " ' Michael Pierson, Annette Tapert Allen, and  Lou Howe ',\n",
       " ' Mark Gilbertson and Kate Allen ',\n",
       " ' Kamie Lightburn and Scott Anderson ',\n",
       " ' Olda FitzGerald, Susan Richardson, and Kathrine Richardson ',\n",
       " ' Spencer Harper, Christina McInerney, Patrick Guinness, and Paula McDermott ',\n",
       " ' Beth Dater and Michael Kerrigan ',\n",
       " ' Alexandra Schlesinger, Kenneth Jay Lane, and Olda FitzGerald ',\n",
       " ' Sean Reynolds, Paula McDermott, Donough Cahill, and Kyra Cheremeteff ',\n",
       " ' Delia Roche-Kelly, Jose Aguire, and Beatriz Aguire ',\n",
       " \" Sheila O'Malley Fuchs, Michael Kerrigan, Chantal O'Sullivan, and Kieran McLoughlin \",\n",
       " \" Jill Donoghue and Robert O'Byrne \",\n",
       " ' Bob Dowling, Steven Stolman, Michael Kerrigan, and Rich Wilke ',\n",
       " ' Robert Fox and Anya Fox ',\n",
       " ' James Anderson, Ivana Lowell, and Steven Gambrel ',\n",
       " ' Angus Wilke and Cynthia Ryan ',\n",
       " ' Christopher Monkhouse and William Laffan ',\n",
       " ' Maribeth Welsh and Tom Quick ',\n",
       " ' Ursula Burns ',\n",
       " ' Joy Reid ',\n",
       " ' Amma Asante ',\n",
       " ' Anne Fulenwider ',\n",
       " ' Scott Seydel, Pat Mitchell, Elianne Ramos, Gloria Steinem, Sheila Johnson, and Julie Burton ',\n",
       " ' Clive Davis and Lesley Gore ',\n",
       " ' David Corn, Jessica Valenti, Elizabeth Plank, and Rachel Sklar ',\n",
       " ' Donna Deitch, Bonnie Schaefer, and Robin Morgan ',\n",
       " ' Jewelle Bickford, Lauren Embrey, and Sally Kohn ',\n",
       " ' Julie Burton, Carol Jenkins, and Carolyn Maloney ',\n",
       " ' Phil Donahue, Gloria Steinem, Marlo Thomas, and Robin Morgan ',\n",
       " ' Roger Hickey, Gloria Steinem, David Corn, and Julie Burton ',\n",
       " ' Sady Doyle, Elianne Ramos, and Lindy West ',\n",
       " ' Steven Swig, Mary Swig, and Gloria Steinem ',\n",
       " ' Vanessa De Luca, Elianne Ramos, and Juile Burton ',\n",
       " ' Bob Peterson, Katie Couric, and Marlo Thomas ',\n",
       " ' Katie Couric and Barbara Walters ',\n",
       " ' Gala Chair Walter Pye; Honoree Len McNally; Carter Burden Center for the Aging Executive Director William J. Dionne; Gala Vice Chair Susan Burden; Gala Vice Chair Jeffrey Weber; and Honoree Michael P. McLaughlin',\n",
       " \" Carter Burden Center for the Aging Board of Directors: Margaret Smith, Susan Burden, Duane Hampton, Patrick Murphy, Kathryn Cashman, Sally Phipps, Paul Powers, Beth Reifers, David Meneret, Mary Connelly, Gib Dunham, Jeff Weber, and Lindsay O'Reilly\",\n",
       " ' New York Community Trust: David Marcus, Eileen Casey, Roderick Jenkins, Len McNally, Pat Jenny, Lorie Slutsky, and Irfan Hassan ',\n",
       " ' Donna Corrado, Commissioner, NYC Department for the Aging; and Caryn Resnick, Deputy Commissioner, NYC Department for the Aging',\n",
       " ' Gala Chairs Julie and David Meneret ',\n",
       " ' Gala Chair David Meneret; Erin Shakespeare; Honoree Michael McLaughlin; and Gala Chair Walter Pye ',\n",
       " ' Gala Vice Chairs Margaret and Ian Smith ',\n",
       " \" Margaret Grioli, Vice President Corporate Communication Employee Volunteerism at Macy's and Susan Burden, Gala Vice Chair \",\n",
       " ' Carter Burden Center for the Aging Senior Participants: Jenny Rodriguez, Norma Negron, Carol Massa, George Davis, Sarah Petit, Rita Trapner, and Anne Wild ',\n",
       " \"The Horticultural Society of New York's  21st Annual Fall Luncheon the Metropolitan Club.\",\n",
       " ' Sharon Casdin, Mary Van Pelt, and Sara Hobel ',\n",
       " ' Sherri Stephenson and Monica Bolstad ',\n",
       " ' Bronson Van Wyck and Coco Kopelman ',\n",
       " ' Emilia Saint-Amand and Grace Meigher ',\n",
       " ' Jean Shafiroff and Nancy Gehman ',\n",
       " ' Alison Strong and Jill Ross ',\n",
       " ' Andrea Fahnestock, Paige Sutherland, and Liz Kogen ',\n",
       " ' Anna Safir and Eleanora Kennedy ',\n",
       " ' Grace Meigher, Mark Gilbertson, and Warrie Price ',\n",
       " ' Barbara Paul Robinson, Louis Bauer, Mark Fisher, Claudia Bonn, Marechal Brown, and Tom Smarr ',\n",
       " ' Jack Lynch and Barbara McLaughlin ',\n",
       " ' Loren Taufield, Hilary Block, and Helen Fitzgerald ',\n",
       " ' Kamie Lightburn and Francis Schultz ',\n",
       " ' Linda Fraser and Melanie Wambold ',\n",
       " ' Mary Van Pelt and Melanie Chisholm ',\n",
       " ' Lindsey Pryor, Lucy Lamphere, Sheila Stephenson, and Betsy Bacon ',\n",
       " ' Nikki Brown and Kate Hemphill ',\n",
       " ' Maria Hernandez, Douglas Blonsky, and Kamie Lightburn ',\n",
       " ' Nina Griscom and Mark Gilbertson ',\n",
       " ' Dr. Marianne Engle, Susi Wunsch, and Cecilia Dupire ',\n",
       " ' Holly Hunt, Kamie Lightburn, and Stephanie Loeffler ',\n",
       " ' Nancy Mortimer, Jessica Tcherepnine, and Anne Ekstrom ',\n",
       " \" Sheila Stephenson and Lily O'Boyle \",\n",
       " ' Natalie Pray, Helen Fitzgerald, Lucy Day, and Sharon Casdin ',\n",
       " ' Ursula Lowerre and Nancy Paduano ',\n",
       " ' Rochelle Ohrstrom, Liz Peek, and Lucy Lamphere ',\n",
       " ' Neil Cavuto, Publisher Peter Mayer, Jon Huntsman, and Abby Huntsman',\n",
       " 'Pete Peterson, Michael Peterson, and Jon Huntsman',\n",
       " 'John and Billie Resnick',\n",
       " 'Somers and Jonathan Farkas',\n",
       " 'Sandi Mendelson, Christopher Cerf, and Lynn Sherr',\n",
       " 'Mary Kaye Huntsman, Jon Huntsman Jr., and  Abby Huntsman',\n",
       " 'HRH Prince Abdulaziz bin Talal bin Abdulaziz Al-Saud and HH Princess Sora bint Saud',\n",
       " 'Jon and Karen Huntsman  with Lord and Lady Evelyn de Rothschild',\n",
       " 'Jon Huntsman Jr. and Jeff Greenfield',\n",
       " 'Vicky Ward and Richard Cohen',\n",
       " 'Rudy Sotolongo, Wayne Reaud, Jon Huntsman, Larry Tillury, and Paul Huntsman',\n",
       " 'Glenn Horowitz and Tracey Jackson',\n",
       " 'Betsy Gotbaum and Mitch Rosenthal',\n",
       " 'Wayne Reaud and Ben Barnes',\n",
       " 'David Peterson, Peter Cary Peterson, and Paige Peterson',\n",
       " ' Luncheon Benefit Advisor Committee: Amanda Low, Stacy Pinelli, Elyse Fuerth, Barbara Barbera, Holly Peterson, Maria Vecchiotti, and Cathy Trentalancia ',\n",
       " 'SAH Trustees Elsie Aidinoff, Amanda Low, Pete Eikenberry, Mimi Saltzman, Maria Vecchiotti, Jonathan Stearns, Lauren Marrus, Holly Peterson, and Dorian Brown ',\n",
       " 'Storefront Academy First Grade students ',\n",
       " 'Elisa Istueta, Lauren Marrus, Jennifer Marrus, Mary Judelson, Holly Peterson, and Ritchie Howe ',\n",
       " 'Holly Peterson, Ray Cameron, and Jonelle Procope ',\n",
       " 'Patty Sacks, Elyse Fuerth, Vanessa Fuerth, and Valerie Goldfein ',\n",
       " 'Pat Schifke, Maria Vecchiotti, and Donna Golkin ',\n",
       " 'Joan Saltzman and Debra Luken ',\n",
       " 'Sue Davies and Elsie Aidinoff ',\n",
       " 'Alexis Thomason and SAH Student Ambassadors ',\n",
       " 'SAH Student Ambassador and Martine Rubenstein ',\n",
       " 'Lisa Plepler and SAH Eighth Grader Neveah T. ',\n",
       " ' Bruce, Doubles Concierge ',\n",
       " ' Jim Coleman and Cynthia Ott ',\n",
       " ' Scott and Aleksandra Cragg ',\n",
       " ' Chips Page and friends ',\n",
       " ' David Orentreich and Marina Killery ',\n",
       " ' Amy Hoadley and Debbie Bancroft ',\n",
       " ' Emdens and Falkenbergs and friends ',\n",
       " ' Fred Spencer and Bianca Nikic ',\n",
       " ' Stephen Westerfield, Kimberly Hart, Michael Barlow, Bryan Sherman, and Grace Johnson ',\n",
       " \" Alison Minton, Bob Stumo, and Anne D'Innocruzio \",\n",
       " ' Barbara and Peter Regna ',\n",
       " ' Christina Rose and friends',\n",
       " ' Megan Meade, Chris Lipuia, Adam Brenner, and Charlie Amber ',\n",
       " ' Denise Rich',\n",
       " ' Lisa and Tom Wilkenson and friends ',\n",
       " ' Tina Flaherty and friend ',\n",
       " ' Mrs. du Maurier and friend ',\n",
       " ' Karenn Brown ',\n",
       " ' Wendy Carduner and Kathleen Giordano as Tippi from Hitchcock\\'s \"The Birds\"',\n",
       " 'Dr. Jeffrey Borenstein, Dr. Herbert Pardes, and Dr. Mehmet C. Oz',\n",
       " 'Dinner Co-Chairs  Suzanne Golden (left) and Virginia Silver (right) with BBRF President and CEO Jeffrey Borenstein, M.D.',\n",
       " ' Nobel Laureate Eric Kandel, M.D., Jeffrey Borenstein, M.D., and Mehmet Oz, M.D.',\n",
       " 'John Golden, Suzanne Golden, Carole Mallement, and Harvey Mallement',\n",
       " 'Ronald Abramson, Anne Abramson, and Eve Novick',\n",
       " 'Mehmet Oz, M.D., Ellen Levine, and Richard Levine, M.D. ',\n",
       " 'Herbert Pardes, M.D., Nancy Wexler, Ph.D., and Bob Wright',\n",
       " \"The scene in the Wade Thompson Drill Hall  of the Park Avenue Armory for Park Avenue Armory's 2014 Gala Masquerade.\",\n",
       " ' John Guare, Adele Chatfield Taylor, and Peter Sellars in conversation',\n",
       " ' John Guare, Adele Chatfield Taylor, and Peter Sellars camera ready',\n",
       " ' David Monn ',\n",
       " ' Sheba Jafari and Stuart Sopp ',\n",
       " ' Jim Seger and Lissa Frenkel ',\n",
       " ' Jane DeFlorio and John McDermott ',\n",
       " ' Elizabeth Kahane and Dr. Shirley Madhere ',\n",
       " ' Olivia Flatto, Alex Poots, Heidi McWilliams, and Adrienne Arsht ',\n",
       " ' Elizabeth Kahane, Rebecca Robertson, and Dr. Shirley Madhere ',\n",
       " ' Libby Ellis and Adrian Ellis ',\n",
       " ' Randy Kemper and Tony Ingrao ',\n",
       " ' Lonti Ebers ',\n",
       " ' Wendy Belzberg and Jenny Kassanoff ',\n",
       " ' Marjorie Reed Gordon and Ellery Gordon ',\n",
       " ' Elihu Rose, Susan Rose, Isabelle Rose, and Jeffrey Fagen ',\n",
       " ' Joanne Ellis and Scott Waddell ',\n",
       " ' Monique Van Vooren and Geoffrey Bradfield ',\n",
       " ' Michael Feinstein, Cathie Black, Tom Harvey, Adrienne Arsht, and Terrence Flannery ',\n",
       " ' Juliana May and Amy Silverman ',\n",
       " ' Serge Tismen, Ida Liu, Michael Rockefeller, and Tara Rockefeller ',\n",
       " ' Raj Prakash and Stacey Alvarez ',\n",
       " ' Liz Stern ',\n",
       " ' Juliana May, Jonathan May, Amy Silverman, and Jeffrey Silverman ',\n",
       " ' Leslie Bains and Harrison Bains ',\n",
       " ' Alan Levenstein and Gail Levenstein ',\n",
       " ' Sara Lese ',\n",
       " ' Karen Ackman and Bill Ackman ',\n",
       " ' Tamara Bernstein and Brad Bernstein ',\n",
       " ' Bonnie Comley, Stewart Lane, and Leah Lane ',\n",
       " ' Steven Brill and Cynthia Brill ',\n",
       " ' Jamee Gregory and Peter Gregory ',\n",
       " ' Michael Shnayerson and Gayfryd Steinberg ',\n",
       " ' David Wassong, Cynthia Clift, Alyssa Fanelli, and Jeffrey Hirsch ',\n",
       " ' Rico King ',\n",
       " ' Christian Gudefin ',\n",
       " ' Nancy Offit, Morris Offit, and Nancy Marks ',\n",
       " ' Madison J Papp and Justin Kush ',\n",
       " ' Alexandra Lebenthal ',\n",
       " ' Lisa Ehrenkranz and Sandy Ehrenkranz ',\n",
       " ' Sheila Stephenson ',\n",
       " ' Kathy Steinberg and Veronica Kelly',\n",
       " ' Michael Barclay and Inga Kozel ',\n",
       " ' James Bassett and Bree Jeppson ',\n",
       " ' Dennis Paul and Coralie Charriol Paul ',\n",
       " ' Sofia Milonas ',\n",
       " ' Amanda Thompson-Riegel, Dicky Riegel, and Angela (Mrs. Wade) Thompson ',\n",
       " ' Sophocles and Priscilla Zoullas ',\n",
       " ' Sanford Smith and Jill Bokor ',\n",
       " ' Adam Schlossinger, Natasha Schlossinger, Nanna Stern, and Dan Stern ',\n",
       " ' Amy Galanos and Nanna Stern ',\n",
       " ' Pablo Legorreta and Almudena Legorreta ',\n",
       " ' Julie Macklowe and Billy Macklowe ',\n",
       " ' Stan Warshawsky, Sandra Warshawsky, and Mort Zuckerman ',\n",
       " ' Margot Steinberg and Stan Harrison ',\n",
       " ' Mary Ellen Oldenburg, Inger Elliott, Janet Ross, and Elizabeth Strong-Cuevas ',\n",
       " ' Diana Revson, Tripp Revson, Kylie Halperin, Alex Revson, and Alexis Powers ',\n",
       " ' Terry Crosby and Mihaela Crosby ',\n",
       " ' Zoe Bullock, R Couri Hay, and Janna Bullock ',\n",
       " ' Jamie Tisch and Julian Gratry ',\n",
       " ' Dr. Shirley Madhere ',\n",
       " ' Laura Ramsey and Rachel Jacobellis ',\n",
       " ' Lesley and Rob Vecsler ',\n",
       " ' Johnnie Planco, Phylicia Rashad, Monique van Vooren, and Geoffrey Bradfield ',\n",
       " ' Heidi McWilliams and Chuck Royce ',\n",
       " ' Elizabeth Strong-Cuevas ',\n",
       " ' David and Heather Halberstadt ',\n",
       " ' George Farias, Bettina Zilkha, Ann Wolf, and Mathew Wolf ',\n",
       " ' John Fiscora and Katherine Todd ',\n",
       " ' Joel Press and Andrea Press ',\n",
       " ' Joanne Ellis and Scott Waddell ',\n",
       " ' Andy Winer, Liz Ward, Natalie Wiegenfeld, and Yoav Wiegenfeld ',\n",
       " ' Jill Lloyd, Isabelle Harnoncourt, and Noreen Buckfire ',\n",
       " ' Farhad Farman Farmaian ',\n",
       " ' Lorri Ahl and Michael Edsall ',\n",
       " ' Diane Lippert, Justin Kush, Margaret Pennoyer, Angelina Lippert, and Hugh MacKay ',\n",
       " ' Barbara Tober, Donald Tober, Denise Saul, Andrew Saul, Mindy Papp, and Matthew Smyth ',\n",
       " ' Chris Larson, Mary Kush, Ed Sumpter, Marcella Ciceri, and Gus Davis ',\n",
       " ' Cathie Black, Tom Harvey, and Adrienne Arsht ',\n",
       " ' Richard Meyer and Karon Meyer ',\n",
       " ' Christian Gudefin and Marie Noel Pierce ',\n",
       " ' Alyssa Fanelli, Cynthia Clift, Lesley Vecsler, and Priscilla Zoullas ',\n",
       " ' Sheila Stephenson and George Stephenson ',\n",
       " ' Nadia ',\n",
       " ' Stephanie French and Sherri Geldin ',\n",
       " ' Sheba Jafari and Stuart Sopp ',\n",
       " ' Elizabeth Callender ',\n",
       " ' James Nguyen and Alexander Gottlieb ',\n",
       " ' Gwen Norton and Sam Claiborne ',\n",
       " ' Thelma Golden and Kate D. Levin ',\n",
       " ' Colin Callender and Julie Taymor ',\n",
       " ' Mira Nair and Joe Reece ',\n",
       " ' Christina and Ilda ',\n",
       " ' Susan Rose and Cameron Carpenter ',\n",
       " ' Dyllan McGee Diana Revson, and Joyce Cowin ',\n",
       " ' Paul Travis and Eric Rudin ',\n",
       " ' Tom Pulling and Eileen Pulling ',\n",
       " ' Sandy Farkas and Andrew Farkas ',\n",
       " ' Alexis Powers, Alex Revson, Charles Revson, Diana Revson, Kylie Halperin, and Tripp Revson ',\n",
       " ' Peter Nitze and Susan Nitze ',\n",
       " ' Fran Weissler, Fred Shuman, and Stephanie Shuman ',\n",
       " ' Samantha Rudin Earls, George Farias, and Ophelia Rudin ',\n",
       " ' Raj Prakash and Stacey Alvarez ',\n",
       " ' Frank Ahimaz, James Reginato, and Steve Barr ',\n",
       " ' Pedro Gonzales and Maria Caso ',\n",
       " ' Heather Halberstadt and David Halberstadt ',\n",
       " ' Richard Gaddes and Daisy Soros ',\n",
       " ' Jeff Arnstein and Pat Papachristidis ',\n",
       " ' Charlotte Mittenthal and Tilly Moross ',\n",
       " ' Frank Morgan, Thomas Teeple, and John David Willingham ',\n",
       " ' Bill Rudin and Scott Nelson ',\n",
       " ' Isabelle Harnoncourt and Richard Feigen ',\n",
       " ' Alex Navab and Mary Katheryn ',\n",
       " ' Jackie Astier ',\n",
       " ' Michael Wise and Della Rounick ',\n",
       " ' Norton Belknap, Marjorie Hart, and Gurnee Hart ',\n",
       " ' Edmee Firth and Andrew Farkas ',\n",
       " ' Barbara Gundlach, Andrew Gundlach, and Shirin von Wolfen ',\n",
       " ' Luke Frazier ',\n",
       " ' Cecelia Alemani and Timothy Quinlan ',\n",
       " ' Annie Taube and Eleanor Ylvisaker ',\n",
       " ' Liz Bickley, Dara Schreiber, Julie Geden, and Kirsten Reoch ',\n",
       " ' Robert Bradford, Barbara Taylor Bradford, and friend',\n",
       " ' Alexia Hamm Ryan and Natalie Kaplan ',\n",
       " ' Amy Fine Collins',\n",
       " ' Ashley McDermott ',\n",
       " ' Andrew Heaney, Andrew Georges, and Leslie Heaney ',\n",
       " ' Antony Todd and friend',\n",
       " ' Ara Hovnanian and Elizabeth de Kergolay ',\n",
       " ' Blair Husain and Betsy Pitts ',\n",
       " ' Bruce Addison  and  Evelyn Tompkins ',\n",
       " ' Carol Mack and Debbie Bancroft ',\n",
       " ' Christian  and Claire Gudefin ',\n",
       " ' Chris Meigher, Mary Hilliard, and Bill McKnight ',\n",
       " ' Daisy Kanavos, Dennis Paul, and Blair Husain ',\n",
       " ' Dana and Larry Creel ',\n",
       " ' Debbie Daumann and Nina Griscom ',\n",
       " ' Jamie and Peter Gregory ',\n",
       " ' Deborah Norville and Karl Wellner ',\n",
       " ' Donald and Lisa Jackson ',\n",
       " ' Eric and Caroline Villency ',\n",
       " ' Frances Schultz and Nina Griscom ',\n",
       " ' Grace Meigher and Brad Comisar ',\n",
       " ' Julian Gratry and Jamie Tisch ',\n",
       " ' Juliette Longuet ',\n",
       " ' Kristin Clark ',\n",
       " ' Kara Ross, Rachel Hovnanian, and Wendy Carduner ',\n",
       " ' Kate Allen and Jennifer Oken ',\n",
       " ' Kirk Henckels with Lorna and Larry Graev ',\n",
       " ' Kristen and Charlie Krusen ',\n",
       " ' Tara, Michael, Peter, and Allison Rockefeller',\n",
       " ' Locke and Lilly Maddock ',\n",
       " ' Lorna Graev and Kari Tiedemann ',\n",
       " ' Mag Braff, Leslie Stevens, and Chappy Morris',\n",
       " ' Mark Gilbertson and Barbara Tober',\n",
       " ' Mark Gilbertson, Bronson Van Wyck, and Zani Gugelmann ',\n",
       " ' Mary Van Pelt ',\n",
       " ' Othon and Kathy Prounis ',\n",
       " ' Simone Mailman ',\n",
       " ' Michael Comminotto and Dennis Basso ',\n",
       " ' Monique Richards ',\n",
       " ' Prince Dimitri and Yaz Hernandez ',\n",
       " ' Nina Richter and Terry Fritzgerald ',\n",
       " ' Pauline Pitt, Jerry Seay, and Fernanda Kellogg ',\n",
       " ' Whitney Fairchild and Scott Currie',\n",
       " ' Stephanie Foster and Pam Owen',\n",
       " ' Peter and Katie Pennoyer ',\n",
       " ' Richard  and Kami Lightburn with Michael and Tori Kempner ',\n",
       " ' Richard Cohen and Vicky Ward ',\n",
       " ' Richard Johnson and Vicky Ward ',\n",
       " 'Ellsworth Kelly and Agnes Gund',\n",
       " 'Bonnie Burnham, Mica Ertegun, Ellsworth Kelly, and Mary McFadden ',\n",
       " 'Ashton Hawkins, Patty Tang, John Hawkins, and Peter Kimmel ',\n",
       " 'Fernanda Kellogg and Kirk Henckels ',\n",
       " 'Anne Mai and Lebiba Ali ',\n",
       " 'Connie Hildesley, Alex Gregory, and Linda Wachner ',\n",
       " 'Ashton Hawkins, Joan Hardy Clark, and Peter Duchin ',\n",
       " 'Laura Sico and Natalie Kaplan ',\n",
       " 'Tuna Koprulu, A. M. Homes, and Alison Gingeras ',\n",
       " 'Manuela Hoelterhoff, Elbrun Kimmelman, and Ildiko Butler ',\n",
       " 'Gary Pudney, Amy Lemons-Sutton, Kenny Lane, and Alden Ramsey ',\n",
       " 'Lilla Ohrstrom and Chris Ohrstrom ',\n",
       " 'Jean-Michel Placent and Felicia Taylor ',\n",
       " 'Tyler Gaffney and Todd Yannuzzi ',\n",
       " 'Alice Walton and Linda Ferber ',\n",
       " 'Judy Taubman',\n",
       " 'David Nitto ',\n",
       " 'Robert Couturier, Irith Landeau, Mercedes Bass, and Jim Zirin',\n",
       " 'Barbara Goldsmith and Lester Weingarten ',\n",
       " 'Roberta  Sandeman and Peter Pennoyer ',\n",
       " 'Ann Madonia and Suzanne Clary ',\n",
       " 'Christopher Walling and Casey Kohlberg ',\n",
       " 'Paul Beirne and Suzanna Cole Kohlberg ',\n",
       " 'James Reginata, Alison Gingeras, A. M. Homes, Jack Bankowsky, Charlotte Birnbaum, and Nicholas Cullinan ',\n",
       " 'Cynthia Frank, Muffie Potter Aston, Lauren DuPont, Claudia Overstrom, Alexia Hamm Ryan, and Karen Zucker',\n",
       " ' Trish Carroll, Hilary Dick, Courtney Moss, Sallie Giordano, and Jennifer Creel',\n",
       " 'Madeline Weinrib and Jacqueline Schnabel ',\n",
       " 'Linda Fargo ',\n",
       " 'Grace Meigher and Jamee Gregory ',\n",
       " 'Muffie Potter Aston, Martha Glass, and Judy Cox ',\n",
       " 'Mario Buatta and Michael Boodro ',\n",
       " 'Donald and Barbara Tober ',\n",
       " 'Eleanor Ylvisaker and Beth Blake Day ',\n",
       " 'Nina Griscom ',\n",
       " 'Christopher Spitzmiller and Sam Allen ',\n",
       " 'Arie and Coco Kopelman ',\n",
       " 'Eleanora and Michael Kennedy ',\n",
       " 'Ernest de la Torre, Michael Boodro, and Barbara Friedmann ',\n",
       " 'Helena and Roman Martinez ',\n",
       " 'Jonathan and Lizzie Tisch ',\n",
       " 'Emilia Krimendahl ',\n",
       " 'Veronica Beard ',\n",
       " 'Martha Sharp and Julie Miller ',\n",
       " 'Bunny Williams, John Rosselli ',\n",
       " 'Susan Zises Green ',\n",
       " ' Sold out NY City Center for Career Transition for Dancers 29th Jubilee.',\n",
       " ' James Earl Jones presented Angela Lansbury with the ROLEX Dance Award ',\n",
       " ' Chuck Scarborough welcomes Chita Rivera ',\n",
       " \" Sotheby's Hugh Hildesley helped garner over $140,000 from bidders \",\n",
       " \" Tony Waag's American Tap Dance Foundation \",\n",
       " ' Dance Theater of Harlem performs Mother Popcorn from Return ',\n",
       " ' World Premiere of New York Church of Mambo choreographed by Alex Sanchez ',\n",
       " \" American Ballet Theatre's Veronika Part and Blaine Hoven in the pas de deux from Seven Sonatas \",\n",
       " ' The brilliant Michael Dameski ',\n",
       " ' The Rockettes Alumni in I want to be a Rockette ',\n",
       " ' Samba by Silva Dance Company ',\n",
       " ' Paula Abdul and Michael Dameski ',\n",
       " ' Michele Riggi and Alexander Dube ',\n",
       " ' CTFD Honorees Fe Saracino Fendi, Joe Tremaine, and Janice Galli Becker ',\n",
       " ' James Earl Jones and Angela Lansbury ',\n",
       " ' Michele Riggi and honoree Joe Tremaine ',\n",
       " ' Cynthia Fischer, Angela Lansbury, Cynthia Gregory, and Chita Rivera ',\n",
       " ' Michelle and Larry Herbert ',\n",
       " ' Ann and Bill Van Ness ',\n",
       " ' Patricia Shiah ',\n",
       " ' Susan Gutfreund and Larry Kaiser ',\n",
       " ' Adam Pollet, Jennifer Becker Pollet, and Stuart Becker ',\n",
       " ' Victor Elmaleh, Sono Osato, and Anka Palitz ',\n",
       " ' Lucia Hwong Gordon ',\n",
       " ' Honoree Janice Galli Becker and Stuart Becker ',\n",
       " ' Mercedes Ellington ',\n",
       " ' Barbara Taylor Bradford and Robert Bradford ',\n",
       " ' Richard and Donna Soloway ',\n",
       " ' Katherine and Gary Andreassen ',\n",
       " ' Edgar Batista, Margo Langenberg, and Edward Callaghan ',\n",
       " ' Thomas and Patricia Shiah ',\n",
       " ' Bill Cunningham ',\n",
       " ' Gigi Fisdale ',\n",
       " ' Prima ballerina Cynthia Gregory  and Ann Marie DeAngelo',\n",
       " ' Alex Dube and Anka Palitz ',\n",
       " ' Barbara and Peter Regna ',\n",
       " ' Candace Gonzalez, Ann Van Ness, and Caroline Lieberman ',\n",
       " ' Anka Palitz, Jean Shafiroff, and Lucia Hwong Gordon',\n",
       " ' The dance pros take the floor\\n            ...',\n",
       " ' Ballet Hispanico rocked the party ',\n",
       " ' Lynn Sherr and John McEnroe ',\n",
       " ' Valerie Ohrstrom, Kamie Lightburn, Nyssa Kourakos, Karen Thornwell May, Neda Navab, and Lynn Sherr ',\n",
       " ' Judy Hart Angelo, Mary Pat Christie, and Elaine Langone ',\n",
       " ' Valerie Ohrstrom, Neda Navab, Nyssa Kourakos, and \\n            Kamie Lightburn',\n",
       " ' Karen LeFrak, Gillian Miniter, and Hilary Geary Ross  ',\n",
       " ' Kate Gellert, Nancy Missett, and Samantha Gellert ',\n",
       " ' Kay and John McEnroe ',\n",
       " ' Sharon Jacob and Suzie Aijala ',\n",
       " ' Lise Evans, Alexia Leuschen, and Amandine Freidheim ',\n",
       " ' Luanne Blowers and Sheila Labrecque ',\n",
       " ' Noreen Buckfire and Antonia Patern\\xc3\\xb3-Castello ',\n",
       " ' Suzanne Cochran, John McEnroe, Lynn Sherr, and Tom Kempner ',\n",
       " ' Emanuel Ax and PMP Board Co-Chair Itzhak Perlman ',\n",
       " ' David Bury, Judy Zankel, OSL Board Chairman Norman Benzaquen, OSL Board Member Georgia Frasch, and OSL President Emeritus Marianne Lockwood ',\n",
       " ' Dan and Monique Goldwasser with Howard Solomon ',\n",
       " ' DiMenna Center Council Co-Chair Emme Deland and Phyllis Levin ',\n",
       " ' Emanuel and Yoko Ax ',\n",
       " ' Frances Resheske and OSL President Emeritus Marianne Lockwood ',\n",
       " ' DiMenna Center Council Co-Chair Emme Deland, OSL Executive Director Katy Clark, OSL Board Member Georgia Frasch, and PMP Board Co-Chair Itzhak Perlman ',\n",
       " ' OSL Board Member Georgia Frasch, PMP Board Co-Chair Itzhak Perlman, and Ronald Frasch ',\n",
       " ' James Lally and OSL Board Member Helen Lally ',\n",
       " ' Barbara Gladstone and friends',\n",
       " ' OSL Board Member Janet Seidler and Charles Seidler, and OSL Board Member Carol Grossman ',\n",
       " ' Jonathan Deland and DiMenna Center Council Co-Chair Emme Deland, and Karen Kochevar ',\n",
       " ' Judi Flom, David Hyde Pierce, OSL Vice President Charles Hamlen, and Judy Zankel ',\n",
       " ' OSL Executive Director Katy Clark and OSL Board Member Dr. Norman Haffner ',\n",
       " ' Leila Straus ',\n",
       " ' Matthew Feldman, Charlottle Lee, PMP Board Co-Chair Itzhak Perlman, and David Lai ',\n",
       " ' Brian Fisher and OSL Board Member Joanna Fisher ',\n",
       " ' OSL Board Member Steven Leifer with Helen and Martin Donner ',\n",
       " ' Rachel and Dr. Larry Norton, and PMP Board Co-Chair Toby Perlman ',\n",
       " ' Roger Alcaly, Stuart and Linda Nelson, and Helen Bodian ',\n",
       " ' OSL Board Member Steven Leifer, Karen and Michael Zeigler, and OSL Board Member Dr. Norman Haffner ',\n",
       " ' PMP Board Member Vicki Kellogg and Michael Finn ',\n",
       " ' Susan Gottsegen and OSL Board Member Peter Gottsegen ',\n",
       " ' Rainbow Room - from upper balcony ',\n",
       " ' Michael Boodro, Anita Sarsedi, Mitchell Owens, and Barbara Freidmann ',\n",
       " ' Stephanie Stokes and Tom Kligerman ',\n",
       " ' Brain Sawyer and Judith Prause ',\n",
       " ' Henry Neville, Wendy Moonan, and Ulrich Leben ',\n",
       " ' Anne Kriken Mann, Joanna Bird, and Susanne Santry ',\n",
       " ' Brandon Correll, Joshua Amores, Joel Barkley, Brian McCarthy, and Todd Klein ',\n",
       " ' Zoe Ryan, Barry Bergdoll, and Barbara Pine ',\n",
       " ' Lucy and Nat Day, Suzy Grote, and Jeanne Butler ',\n",
       " ' Ashley and David Adjaye ',\n",
       " ' Anne Ashmore-Hudson and Jim Hudson ',\n",
       " ' Scott Cummings, Philae Dominick, and Evan and Tricia Stewart ',\n",
       " ' Martini man, Sarah Ehrlich, and Liz Hall ',\n",
       " ' Mary Anne Hunting, Nick Stern, MaryLouise Napier Zuzunaga, and Courtney Stern ',\n",
       " ' Augusta Barone, Mabel Wilson, Mario Gooden, and Alan Robinson ',\n",
       " ' Chippy Irvine and Betty Scott ',\n",
       " ' Becky Birdwell and Chris Lytle ',\n",
       " ' Michael Gabellini and Cintra McGauley ',\n",
       " ' Bob Stern and Nick Stern ',\n",
       " ' Fred Bernstein, Birch Coffey, Anne Edgar, Sam Roche, and Dave Sussman ',\n",
       " ' Hermes Mallea, Jim and Liz Friedlander, and Carey Maloney ',\n",
       " ' Jan Aronson, Matthew Bronfman, Honoree Phyllis Lambert, Charles Bronfman, Stacey Bronfman, and Rita Bronfman ',\n",
       " ' Monty Freeman, Honoree Phyllis Lambert, Abraham Thomas, and Fred Bernstein ',\n",
       " ' Barrie Pickering and Maggie Carey ',\n",
       " ' Richard Sammons and Charles Miers ',\n",
       " ' Presenters Adam Lerner and Thelma Golden with Honoree David Adjaye ',\n",
       " ' Colette Arredondo with John Soane figure and John Flower ',\n",
       " ' A happy gala guest on departure ',\n",
       " ' Lynn Sherr and John McEnroe ',\n",
       " \"Dinner on the promenade of the David Koch Theater at the  American Ballet Theatre's annual Opening Night Fall Gala benefit.\",\n",
       " 'The table decor',\n",
       " ' Adam Shankman ',\n",
       " ' Alec and Hilaria Baldwin ',\n",
       " ' Brian Atwood ',\n",
       " ' Cameron Bicondova ',\n",
       " ' Gillian Miniter and Fe Fendi ',\n",
       " ' Breandan Fallis and  Hannah Bronfman ',\n",
       " ' David Hallberg ',\n",
       " ' Chiu-Ti Jansen ',\n",
       " ' Dalia Oberlander and  Debora Pagani ',\n",
       " ' Deborah Ann Woll ',\n",
       " ' Alec and Hilaria Baldwin ',\n",
       " ' Chris Noth ',\n",
       " ' Lauren Hutton and  Gina Torres ',\n",
       " ' Eaddy Kiernan and Indre Rockefeller ',\n",
       " ' Jenny Slate ',\n",
       " ' Olivia Munn ',\n",
       " ' Taye Diggs ',\n",
       " ' Micaela Erlanger and Olivia Munn ',\n",
       " ' Susan Fales-Hill, Bettina Zilkha, and Caryn Zucker ',\n",
       " ' Leslie Ziff ',\n",
       " ' Misty Copeland, Nigel Barker, and Cristen Barker ',\n",
       " ' Hamish Bowles and Anh Duong ',\n",
       " ' Martine van Hamel and Kevin McKenzie ',\n",
       " ' Isabella Boylston ',\n",
       " ' Sonja Morgan ',\n",
       " ' Stephanie Williams ',\n",
       " ' Al Roker and Deborah Roberts ',\n",
       " ' Alec Baldwin and Rachel Moore ',\n",
       " ' Steven Kobre, Louise Kornfeld, Stephen Kornfeld, Karyn Kornfeld, Adam Kornfeld, Joanna Kornfeld, and Dr. Paul Friedman ',\n",
       " \"\\xe2\\x80\\x98Timeless Hollywood icon' with a twist ...\",\n",
       " ' Somers Farkas and Chele Chiavacci ',\n",
       " ' Muffie Potter Aston and Sherrell Aston ',\n",
       " ' Fabia Masson ',\n",
       " ' Princess Yasmin Aga Khan and Ronnie Spector ',\n",
       " ' Lucia Hwong Gordon and Jean Shafiroff ',\n",
       " ' Hilary Gumbel and Bryant Gumbel ',\n",
       " ' Michelle Herbert ',\n",
       " ' Deborah Norville and Karl Wellner ',\n",
       " ' Nikki Haskell',\n",
       " ' Dennis Basso and Dede Wilsey ',\n",
       " ' Brooke Shields, John McEnroe, and Patty McEnroe ',\n",
       " ' Charlene Nederlander and Bonnie Comley ',\n",
       " ' Lise Evans and Michael Evans ',\n",
       " ' James Nederlander and Stewart Lane ',\n",
       " ' Geoffrey Bradfield, Jonathan Farkas, and Robert Zimmerman ',\n",
       " ' Suzanne Murphy and Nurit Kahane ',\n",
       " ' Deborah Norville, Karl Wellner, and Ann Dexter Jones ',\n",
       " ' Liz Lang, Mark Locks, and Mindy Grossman ',\n",
       " ' Harry Johns and Brendan Shanahan ',\n",
       " ' Princess Yasmin Aga Khan and Bryant Gumbel ',\n",
       " ' Debbie Bancroft ',\n",
       " ' Jody Wolf and Marla Helen ',\n",
       " ' Regis  and Joy Philbin ',\n",
       " ' Uban Hassan ',\n",
       " ' Lisa Rinna ',\n",
       " ' Lisa Lori and Mat Lori ',\n",
       " ...]"
      ]
     },
     "execution_count": 69,
     "metadata": {},
     "output_type": "execute_result"
    }
   ],
   "source": [
    "list250char"
   ]
  },
  {
   "cell_type": "code",
   "execution_count": 71,
   "metadata": {
    "collapsed": false
   },
   "outputs": [
    {
     "data": {
      "text/plain": [
       "5614"
      ]
     },
     "execution_count": 71,
     "metadata": {},
     "output_type": "execute_result"
    }
   ],
   "source": [
    "len(list250char)"
   ]
  },
  {
   "cell_type": "code",
   "execution_count": 72,
   "metadata": {
    "collapsed": true
   },
   "outputs": [],
   "source": [
    "# write out captions\n",
    "thefile = open('NOV16_az_captions.txt', 'w') # was test_az...\n",
    "for item in list250char:\n",
    "  thefile.write(\"%s\\n\" % item)\n",
    "\n",
    "# save to pickle\n",
    "with open(\"NOV16_az_captions.pickle\", \"wb\") as file:\n",
    "    pickle.dump(list250char, file)\n"
   ]
  },
  {
   "cell_type": "code",
   "execution_count": null,
   "metadata": {
    "collapsed": true
   },
   "outputs": [],
   "source": []
  },
  {
   "cell_type": "code",
   "execution_count": null,
   "metadata": {
    "collapsed": true
   },
   "outputs": [],
   "source": [
    "# In part 2 we extract names from captions\n",
    "# and make a social graph, calculate page rank etc\n",
    "# In part 3 we explore visualization tools for social graph networks"
   ]
  },
  {
   "cell_type": "code",
   "execution_count": null,
   "metadata": {
    "collapsed": true
   },
   "outputs": [],
   "source": []
  }
 ],
 "metadata": {
  "kernelspec": {
   "display_name": "Python 2",
   "language": "python",
   "name": "python2"
  },
  "language_info": {
   "codemirror_mode": {
    "name": "ipython",
    "version": 2
   },
   "file_extension": ".py",
   "mimetype": "text/x-python",
   "name": "python",
   "nbconvert_exporter": "python",
   "pygments_lexer": "ipython2",
   "version": "2.7.6"
  }
 },
 "nbformat": 4,
 "nbformat_minor": 1
}
